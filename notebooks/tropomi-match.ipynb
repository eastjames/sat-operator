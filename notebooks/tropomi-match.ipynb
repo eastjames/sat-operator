{
 "cells": [
  {
   "cell_type": "code",
   "execution_count": 1,
   "id": "3a0b6738-cd44-4dee-a511-8422dd3b601b",
   "metadata": {},
   "outputs": [],
   "source": [
    "import sys\n",
    "#sys.path.append('/n/home06/jeast/integrated_methane_inversion/src/inversion_scripts/operators')\n",
    "#sys.path.append('/n/home06/jeast/integrated_methane_inversion/src/inversion_scripts/')\n",
    "sys.path.append('/n/home06/jeast/sat-operator')"
   ]
  },
  {
   "cell_type": "code",
   "execution_count": 2,
   "id": "87d41ab0-bc8b-4832-a0ae-e997929cb283",
   "metadata": {},
   "outputs": [],
   "source": [
    "import tropomi"
   ]
  },
  {
   "cell_type": "code",
   "execution_count": 3,
   "id": "cd4c015f-0cf5-44dd-8d34-4591eeb56d78",
   "metadata": {},
   "outputs": [],
   "source": [
    "import pandas as pd\n",
    "import numpy as np\n",
    "import xarray as xr"
   ]
  },
  {
   "cell_type": "code",
   "execution_count": 4,
   "id": "5f2f1caf-13d6-4d6a-8a5f-8728ef70c096",
   "metadata": {},
   "outputs": [],
   "source": [
    "from glob import glob"
   ]
  },
  {
   "cell_type": "code",
   "execution_count": 5,
   "id": "ce23fe91-6da5-419a-82fb-2db00b3d6207",
   "metadata": {},
   "outputs": [],
   "source": [
    "import yaml"
   ]
  },
  {
   "cell_type": "code",
   "execution_count": 6,
   "id": "2a5a2ecb-a7e0-4818-bd5f-88642d35d1d1",
   "metadata": {},
   "outputs": [],
   "source": [
    "with open('config.yml', 'r') as file:\n",
    "    cfg = yaml.safe_load(file)"
   ]
  },
  {
   "cell_type": "code",
   "execution_count": 7,
   "id": "afba4f6e-1454-40c7-906a-d0299673f9f9",
   "metadata": {},
   "outputs": [
    {
     "data": {
      "text/plain": [
       "7547904"
      ]
     },
     "execution_count": 7,
     "metadata": {},
     "output_type": "execute_result"
    }
   ],
   "source": [
    "np.ones((144,91,24,3),dtype=np.float64).nbytes"
   ]
  },
  {
   "cell_type": "code",
   "execution_count": 8,
   "id": "19789b37-a93b-4923-b054-a42f15b9bd3e",
   "metadata": {},
   "outputs": [],
   "source": [
    "startdate = str(cfg['startdate'])\n",
    "enddate = str(cfg['enddate'])\n",
    "gc_cache = str(cfg['gc_cache'])\n",
    "tropomidir = str(cfg['tropomidir'])\n",
    "datadir = str(cfg['datadir'])"
   ]
  },
  {
   "cell_type": "code",
   "execution_count": 13,
   "id": "5167eaa0-55c7-4ccb-b718-07c2fb0230d4",
   "metadata": {},
   "outputs": [],
   "source": [
    "gc_startdate = pd.to_datetime(startdate, format='%Y%j')\n",
    "gc_enddate = pd.to_datetime(enddate, format='%Y%j')\n",
    "#gc_cache = '/n/holyscratch01/jacob_lab/jeast/gc-OH-runs/gc_2x25_merra2_CH4_v05OH-test/OutputDir/'"
   ]
  },
  {
   "cell_type": "code",
   "execution_count": 14,
   "id": "06d56901-db4b-495c-8d08-90d1b178ab7c",
   "metadata": {},
   "outputs": [
    {
     "data": {
      "text/plain": [
       "'20190101T000000'"
      ]
     },
     "execution_count": 14,
     "metadata": {},
     "output_type": "execute_result"
    }
   ],
   "source": [
    "gc_startdate.strftime('%Y%m%dT%H%M%S')"
   ]
  },
  {
   "cell_type": "code",
   "execution_count": 15,
   "id": "148a553c-823c-4ff2-9cfe-a7f2e6dc80ed",
   "metadata": {},
   "outputs": [],
   "source": [
    "#tropomidir = '/n/holylfs05/LABS/jacob_lab/imi/ch4/tropomi/'"
   ]
  },
  {
   "cell_type": "code",
   "execution_count": 17,
   "id": "1a88c40c-6b0f-480e-883d-75f1494aa286",
   "metadata": {},
   "outputs": [],
   "source": [
    "#tpath = f'{tropomidir}/S5P_RPRO_L2__CH4____20190101T183229_20190101T201359_06319_03_020400_20221118T035129.nc'\n",
    "#tpath = f'{tropomidir}/{tropomipattern}'\n",
    "tpath = f'{tropomidir}/*{gc_startdate.strftime(\"%Y%m%d\")}*.nc'"
   ]
  },
  {
   "cell_type": "code",
   "execution_count": 18,
   "id": "7e84f1bd-1c12-4464-a1a6-a24a886749bf",
   "metadata": {},
   "outputs": [
    {
     "data": {
      "text/plain": [
       "['/n/holylfs05/LABS/jacob_lab/imi/ch4/tropomi/S5P_RPRO_L2__CH4____20181231T235559_20190101T013729_06308_03_020400_20221118T030539.nc',\n",
       " '/n/holylfs05/LABS/jacob_lab/imi/ch4/tropomi/S5P_RPRO_L2__CH4____20190101T013729_20190101T031859_06309_03_020400_20221118T031702.nc',\n",
       " '/n/holylfs05/LABS/jacob_lab/imi/ch4/tropomi/S5P_RPRO_L2__CH4____20190101T031859_20190101T050029_06310_03_020400_20221118T031704.nc',\n",
       " '/n/holylfs05/LABS/jacob_lab/imi/ch4/tropomi/S5P_RPRO_L2__CH4____20190101T050029_20190101T064159_06311_03_020400_20221118T031705.nc',\n",
       " '/n/holylfs05/LABS/jacob_lab/imi/ch4/tropomi/S5P_RPRO_L2__CH4____20190101T064159_20190101T082329_06312_03_020400_20221118T031707.nc',\n",
       " '/n/holylfs05/LABS/jacob_lab/imi/ch4/tropomi/S5P_RPRO_L2__CH4____20190101T082329_20190101T100459_06313_03_020400_20221118T031708.nc',\n",
       " '/n/holylfs05/LABS/jacob_lab/imi/ch4/tropomi/S5P_RPRO_L2__CH4____20190101T100459_20190101T114629_06314_03_020400_20221118T031710.nc',\n",
       " '/n/holylfs05/LABS/jacob_lab/imi/ch4/tropomi/S5P_RPRO_L2__CH4____20190101T114629_20190101T132759_06315_03_020400_20221118T031711.nc',\n",
       " '/n/holylfs05/LABS/jacob_lab/imi/ch4/tropomi/S5P_RPRO_L2__CH4____20190101T132759_20190101T150929_06316_03_020400_20221118T031713.nc',\n",
       " '/n/holylfs05/LABS/jacob_lab/imi/ch4/tropomi/S5P_RPRO_L2__CH4____20190101T150929_20190101T165059_06317_03_020400_20221118T032837.nc',\n",
       " '/n/holylfs05/LABS/jacob_lab/imi/ch4/tropomi/S5P_RPRO_L2__CH4____20190101T165059_20190101T183229_06318_03_020400_20221118T034002.nc',\n",
       " '/n/holylfs05/LABS/jacob_lab/imi/ch4/tropomi/S5P_RPRO_L2__CH4____20190101T183229_20190101T201359_06319_03_020400_20221118T035129.nc',\n",
       " '/n/holylfs05/LABS/jacob_lab/imi/ch4/tropomi/S5P_RPRO_L2__CH4____20190101T201359_20190101T215529_06320_03_020400_20221118T040309.nc',\n",
       " '/n/holylfs05/LABS/jacob_lab/imi/ch4/tropomi/S5P_RPRO_L2__CH4____20190101T215529_20190101T233659_06321_03_020400_20221118T040310.nc',\n",
       " '/n/holylfs05/LABS/jacob_lab/imi/ch4/tropomi/S5P_RPRO_L2__CH4____20190101T233659_20190102T011828_06322_03_020400_20221118T040312.nc']"
      ]
     },
     "execution_count": 18,
     "metadata": {},
     "output_type": "execute_result"
    }
   ],
   "source": [
    "sorted(glob(tpath))"
   ]
  },
  {
   "cell_type": "code",
   "execution_count": 19,
   "id": "ca2236fd-26a7-4ebd-aadd-3bfca89bba90",
   "metadata": {},
   "outputs": [],
   "source": [
    "#tpaths = sorted(glob(\n",
    "#    f'{tdir}/S5P_RPRO_L2__CH4____2019010[1234567]T??????_2019010[1234567]T??????_?????_03_020400_????????T??????.nc'\n",
    "#))\n",
    "tpaths = []\n",
    "tidx = 0\n",
    "for tdate in pd.date_range(gc_startdate,gc_enddate):\n",
    "    for f in sorted(glob(tdate.strftime(tpath))):\n",
    "        tpaths.append(f)\n",
    "    #tpaths.append([f for f in sorted(glob(tdate.strftime(tpath)))])"
   ]
  },
  {
   "cell_type": "code",
   "execution_count": 21,
   "id": "fcd1a97f-9366-475d-a3e4-57b7986e7862",
   "metadata": {},
   "outputs": [],
   "source": [
    "tpath = f'{tropomidir}/*{gc_startdate.strftime(\"%Y%m%d\")}*.nc'\n",
    "tpaths = sorted(glob(tpath))\n",
    "for f in tpaths:\n",
    "    dstart = f.split('_')[-5]\n",
    "    dend = f.split('_')[-6]\n",
    "    datestr = gc_startdate.strftime('%Y%m%d')\n",
    "    if ((datestr in dstart) | (datestr in dend )):\n",
    "        continue\n",
    "    else:\n",
    "        tpaths.remove(f)"
   ]
  },
  {
   "cell_type": "code",
   "execution_count": 22,
   "id": "69f41031-84d2-4978-badf-333f339ce807",
   "metadata": {},
   "outputs": [
    {
     "data": {
      "text/plain": [
       "['/n/holylfs05/LABS/jacob_lab/imi/ch4/tropomi/S5P_RPRO_L2__CH4____20181231T235559_20190101T013729_06308_03_020400_20221118T030539.nc',\n",
       " '/n/holylfs05/LABS/jacob_lab/imi/ch4/tropomi/S5P_RPRO_L2__CH4____20190101T013729_20190101T031859_06309_03_020400_20221118T031702.nc',\n",
       " '/n/holylfs05/LABS/jacob_lab/imi/ch4/tropomi/S5P_RPRO_L2__CH4____20190101T031859_20190101T050029_06310_03_020400_20221118T031704.nc',\n",
       " '/n/holylfs05/LABS/jacob_lab/imi/ch4/tropomi/S5P_RPRO_L2__CH4____20190101T050029_20190101T064159_06311_03_020400_20221118T031705.nc',\n",
       " '/n/holylfs05/LABS/jacob_lab/imi/ch4/tropomi/S5P_RPRO_L2__CH4____20190101T064159_20190101T082329_06312_03_020400_20221118T031707.nc',\n",
       " '/n/holylfs05/LABS/jacob_lab/imi/ch4/tropomi/S5P_RPRO_L2__CH4____20190101T082329_20190101T100459_06313_03_020400_20221118T031708.nc',\n",
       " '/n/holylfs05/LABS/jacob_lab/imi/ch4/tropomi/S5P_RPRO_L2__CH4____20190101T100459_20190101T114629_06314_03_020400_20221118T031710.nc',\n",
       " '/n/holylfs05/LABS/jacob_lab/imi/ch4/tropomi/S5P_RPRO_L2__CH4____20190101T114629_20190101T132759_06315_03_020400_20221118T031711.nc',\n",
       " '/n/holylfs05/LABS/jacob_lab/imi/ch4/tropomi/S5P_RPRO_L2__CH4____20190101T132759_20190101T150929_06316_03_020400_20221118T031713.nc',\n",
       " '/n/holylfs05/LABS/jacob_lab/imi/ch4/tropomi/S5P_RPRO_L2__CH4____20190101T150929_20190101T165059_06317_03_020400_20221118T032837.nc',\n",
       " '/n/holylfs05/LABS/jacob_lab/imi/ch4/tropomi/S5P_RPRO_L2__CH4____20190101T165059_20190101T183229_06318_03_020400_20221118T034002.nc',\n",
       " '/n/holylfs05/LABS/jacob_lab/imi/ch4/tropomi/S5P_RPRO_L2__CH4____20190101T183229_20190101T201359_06319_03_020400_20221118T035129.nc',\n",
       " '/n/holylfs05/LABS/jacob_lab/imi/ch4/tropomi/S5P_RPRO_L2__CH4____20190101T201359_20190101T215529_06320_03_020400_20221118T040309.nc',\n",
       " '/n/holylfs05/LABS/jacob_lab/imi/ch4/tropomi/S5P_RPRO_L2__CH4____20190101T215529_20190101T233659_06321_03_020400_20221118T040310.nc',\n",
       " '/n/holylfs05/LABS/jacob_lab/imi/ch4/tropomi/S5P_RPRO_L2__CH4____20190101T233659_20190102T011828_06322_03_020400_20221118T040312.nc']"
      ]
     },
     "execution_count": 22,
     "metadata": {},
     "output_type": "execute_result"
    }
   ],
   "source": [
    "tpaths"
   ]
  },
  {
   "cell_type": "code",
   "execution_count": 23,
   "id": "74f18119-0802-415f-8da7-621ba2d2bafa",
   "metadata": {
    "tags": []
   },
   "outputs": [],
   "source": [
    "tfs1 = []\n",
    "for f in tpaths:\n",
    "    continue\n",
    "    tf1 = tropomi.apply_average_tropomi_operator(\n",
    "        filename = f,\n",
    "        n_elements = None,\n",
    "        gc_startdate = gc_startdate,\n",
    "        gc_enddate = gc_enddate,\n",
    "        xlim = np.array([-180,180]),\n",
    "        ylim = np.array([-90,90]),\n",
    "        gc_cache = gc_cache\n",
    "    )\n",
    "    tfs1.append(tf1)"
   ]
  },
  {
   "cell_type": "code",
   "execution_count": 135,
   "id": "125e6b38-199b-4b76-bf1c-5b23a9cd321d",
   "metadata": {},
   "outputs": [
    {
     "name": "stdout",
     "output_type": "stream",
     "text": [
      "\n",
      "\n",
      "----> Processing 2019-01-01 <----\n",
      "/n/holylfs05/LABS/jacob_lab/imi/ch4/tropomi/S5P_RPRO_L2__CH4____20181231T235559_20190101T013729_06308_03_020400_20221118T030539.nc\n",
      "Found 0 TROPOMI observations.\n",
      "0\n",
      "\n",
      "/n/holylfs05/LABS/jacob_lab/imi/ch4/tropomi/S5P_RPRO_L2__CH4____20190101T013729_20190101T031859_06309_03_020400_20221118T031702.nc\n",
      "Found 26 TROPOMI observations.\n",
      "2\n",
      "\n",
      "/n/holylfs05/LABS/jacob_lab/imi/ch4/tropomi/S5P_RPRO_L2__CH4____20190101T031859_20190101T050029_06310_03_020400_20221118T031704.nc\n",
      "Found 29202 TROPOMI observations.\n",
      "84\n",
      "\n",
      "/n/holylfs05/LABS/jacob_lab/imi/ch4/tropomi/S5P_RPRO_L2__CH4____20190101T050029_20190101T064159_06311_03_020400_20221118T031705.nc\n",
      "Found 17309 TROPOMI observations.\n",
      "58\n",
      "\n",
      "/n/holylfs05/LABS/jacob_lab/imi/ch4/tropomi/S5P_RPRO_L2__CH4____20190101T064159_20190101T082329_06312_03_020400_20221118T031707.nc\n",
      "Found 25716 TROPOMI observations.\n",
      "67\n",
      "\n",
      "/n/holylfs05/LABS/jacob_lab/imi/ch4/tropomi/S5P_RPRO_L2__CH4____20190101T082329_20190101T100459_06313_03_020400_20221118T031708.nc\n",
      "Found 11720 TROPOMI observations.\n",
      "51\n",
      "\n",
      "/n/holylfs05/LABS/jacob_lab/imi/ch4/tropomi/S5P_RPRO_L2__CH4____20190101T100459_20190101T114629_06314_03_020400_20221118T031710.nc\n",
      "Found 28211 TROPOMI observations.\n",
      "90\n",
      "\n",
      "/n/holylfs05/LABS/jacob_lab/imi/ch4/tropomi/S5P_RPRO_L2__CH4____20190101T114629_20190101T132759_06315_03_020400_20221118T031711.nc\n",
      "Found 62323 TROPOMI observations.\n",
      "140\n",
      "\n",
      "/n/holylfs05/LABS/jacob_lab/imi/ch4/tropomi/S5P_RPRO_L2__CH4____20190101T132759_20190101T150929_06316_03_020400_20221118T031713.nc\n",
      "Found 11429 TROPOMI observations.\n",
      "32\n",
      "\n",
      "/n/holylfs05/LABS/jacob_lab/imi/ch4/tropomi/S5P_RPRO_L2__CH4____20190101T150929_20190101T165059_06317_03_020400_20221118T032837.nc\n",
      "Found 172 TROPOMI observations.\n",
      "4\n",
      "\n",
      "/n/holylfs05/LABS/jacob_lab/imi/ch4/tropomi/S5P_RPRO_L2__CH4____20190101T165059_20190101T183229_06318_03_020400_20221118T034002.nc\n",
      "Found 1617 TROPOMI observations.\n",
      "28\n",
      "\n",
      "/n/holylfs05/LABS/jacob_lab/imi/ch4/tropomi/S5P_RPRO_L2__CH4____20190101T183229_20190101T201359_06319_03_020400_20221118T035129.nc\n",
      "Found 2451 TROPOMI observations.\n",
      "25\n",
      "\n",
      "/n/holylfs05/LABS/jacob_lab/imi/ch4/tropomi/S5P_RPRO_L2__CH4____20190101T201359_20190101T215529_06320_03_020400_20221118T040309.nc\n",
      "Found 866 TROPOMI observations.\n",
      "10\n",
      "\n",
      "/n/holylfs05/LABS/jacob_lab/imi/ch4/tropomi/S5P_RPRO_L2__CH4____20190101T215529_20190101T233659_06321_03_020400_20221118T040310.nc\n",
      "Found 0 TROPOMI observations.\n",
      "0\n",
      "\n",
      "/n/holylfs05/LABS/jacob_lab/imi/ch4/tropomi/S5P_RPRO_L2__CH4____20190101T233659_20190102T011828_06322_03_020400_20221118T040312.nc\n",
      "Found 0 TROPOMI observations.\n",
      "0\n",
      "\n"
     ]
    }
   ],
   "source": [
    "# save daily file\n",
    "for tdate in pd.date_range(gc_startdate,gc_enddate)[:-1]:\n",
    "    print(f'\\n\\n----> Processing {tdate.strftime(\"%Y-%m-%d\")} <----')\n",
    "    \n",
    "    # get the lat/lons of gc gridcells\n",
    "    gc_lat_lon = tropomi.get_gc_lat_lon(gc_cache, tdate)\n",
    "    \n",
    "    # all swaths for today\n",
    "    tpat = f'{tropomidir}/*{gc_startdate.strftime(\"%Y%m%d\")}*.nc'\n",
    "    tpaths = sorted(glob(tpat))\n",
    "    # remove if not day of interest \n",
    "    for f in tpaths:\n",
    "        dstart = f.split('_')[-5]\n",
    "        dend = f.split('_')[-6]\n",
    "        datestr = gc_startdate.strftime('%Y%m%d')\n",
    "        if ((datestr in dstart) | (datestr in dend )):\n",
    "            continue\n",
    "        else:\n",
    "            tpaths.remove(f)\n",
    "\n",
    "    # grid each swath\n",
    "    tfs = []\n",
    "    for f in tpaths:\n",
    "        print(f)\n",
    "        tf = tropomi.apply_average_tropomi_operator(\n",
    "            filename = f,\n",
    "            n_elements = None,\n",
    "            gc_startdate = tdate,\n",
    "            gc_enddate = tdate + pd.Timedelta('1D'),\n",
    "            xlim = np.array([-180,180]),\n",
    "            ylim = np.array([-90,90]),\n",
    "            gc_cache = gc_cache\n",
    "        )\n",
    "        tfs.append(tf)\n",
    "        print()\n",
    "        \n",
    "    # convert to xarray dataset\n",
    "    dslist = [tropomi.accumulate_to_dataset(obs['obs_GC'],gc_lat_lon) for obs in tfs]\n",
    "    # strip Nones\n",
    "    dslist = [ds for ds in dstmp if ds is not None]\n",
    "    \n",
    "    # merge\n",
    "    dsout = xr.merge(dslist,compat='no_conflicts')\n",
    "    \n",
    "    # save\n",
    "    ds.to_netcdf(\n",
    "        tdate.strftime(f'{datadir}/TROPOMI_GC_XCH4_L3_%Y%m%d.nc'),\n",
    "        encoding = {v:{'zlib':True,'complevel':1} for v in ds.data_vars}\n",
    "    )"
   ]
  },
  {
   "cell_type": "code",
   "execution_count": 118,
   "id": "b00a8ecc-ed3f-4d40-a39c-35b256b8bb08",
   "metadata": {},
   "outputs": [],
   "source": [
    "filename = '/n/holylfs05/LABS/jacob_lab/imi/ch4/tropomi/S5P_RPRO_L2__CH4____20190101T233659_20190102T011828_06322_03_020400_20221118T040312.nc'"
   ]
  },
  {
   "cell_type": "code",
   "execution_count": 127,
   "id": "8f0f60fd-c627-43f4-91aa-bae60c3c05c6",
   "metadata": {},
   "outputs": [
    {
     "data": {
      "text/plain": [
       "False"
      ]
     },
     "execution_count": 127,
     "metadata": {},
     "output_type": "execute_result"
    }
   ],
   "source": [
    "gc_startdate.strftime('%Y%m%d') in filename.split('_')[-5]"
   ]
  },
  {
   "cell_type": "code",
   "execution_count": 150,
   "id": "e8daf974-1de2-4801-a893-0a77cff888da",
   "metadata": {},
   "outputs": [
    {
     "data": {
      "text/plain": [
       "'RPRO'"
      ]
     },
     "execution_count": 150,
     "metadata": {},
     "output_type": "execute_result"
    }
   ],
   "source": [
    "filename.split('_')[-13]"
   ]
  },
  {
   "cell_type": "code",
   "execution_count": 160,
   "id": "0a13b0c1-8b2e-4d17-a8d1-47d096d0ca93",
   "metadata": {},
   "outputs": [
    {
     "name": "stdout",
     "output_type": "stream",
     "text": [
      "/n/holylfs05/LABS/jacob_lab/imi/ch4/tropomi/S5P_RPRO_L2__CH4____20181231T235559_20190101T013729_06308_03_020400_20221118T030539.nc\n",
      "20190101T013729 20181231T235559 020400 RPRO\n",
      "/n/holylfs05/LABS/jacob_lab/imi/ch4/tropomi/S5P_RPRO_L2__CH4____20190101T013729_20190101T031859_06309_03_020400_20221118T031702.nc\n",
      "20190101T031859 20190101T013729 020400 RPRO\n",
      "/n/holylfs05/LABS/jacob_lab/imi/ch4/tropomi/S5P_RPRO_L2__CH4____20190101T031859_20190101T050029_06310_03_020400_20221118T031704.nc\n",
      "20190101T050029 20190101T031859 020400 RPRO\n",
      "/n/holylfs05/LABS/jacob_lab/imi/ch4/tropomi/S5P_RPRO_L2__CH4____20190101T050029_20190101T064159_06311_03_020400_20221118T031705.nc\n",
      "20190101T064159 20190101T050029 020400 RPRO\n",
      "/n/holylfs05/LABS/jacob_lab/imi/ch4/tropomi/S5P_RPRO_L2__CH4____20190101T064159_20190101T082329_06312_03_020400_20221118T031707.nc\n",
      "20190101T082329 20190101T064159 020400 RPRO\n",
      "/n/holylfs05/LABS/jacob_lab/imi/ch4/tropomi/S5P_RPRO_L2__CH4____20190101T082329_20190101T100459_06313_03_020400_20221118T031708.nc\n",
      "20190101T100459 20190101T082329 020400 RPRO\n",
      "/n/holylfs05/LABS/jacob_lab/imi/ch4/tropomi/S5P_RPRO_L2__CH4____20190101T100459_20190101T114629_06314_03_020400_20221118T031710.nc\n",
      "20190101T114629 20190101T100459 020400 RPRO\n",
      "/n/holylfs05/LABS/jacob_lab/imi/ch4/tropomi/S5P_RPRO_L2__CH4____20190101T114629_20190101T132759_06315_03_020400_20221118T031711.nc\n",
      "20190101T132759 20190101T114629 020400 RPRO\n",
      "/n/holylfs05/LABS/jacob_lab/imi/ch4/tropomi/S5P_RPRO_L2__CH4____20190101T132759_20190101T150929_06316_03_020400_20221118T031713.nc\n",
      "20190101T150929 20190101T132759 020400 RPRO\n",
      "/n/holylfs05/LABS/jacob_lab/imi/ch4/tropomi/S5P_RPRO_L2__CH4____20190101T150929_20190101T165059_06317_03_020400_20221118T032837.nc\n",
      "20190101T165059 20190101T150929 020400 RPRO\n",
      "/n/holylfs05/LABS/jacob_lab/imi/ch4/tropomi/S5P_RPRO_L2__CH4____20190101T165059_20190101T183229_06318_03_020400_20221118T034002.nc\n",
      "20190101T183229 20190101T165059 020400 RPRO\n",
      "/n/holylfs05/LABS/jacob_lab/imi/ch4/tropomi/S5P_RPRO_L2__CH4____20190101T183229_20190101T201359_06319_03_020400_20221118T035129.nc\n",
      "20190101T201359 20190101T183229 020400 RPRO\n",
      "/n/holylfs05/LABS/jacob_lab/imi/ch4/tropomi/S5P_RPRO_L2__CH4____20190101T201359_20190101T215529_06320_03_020400_20221118T040309.nc\n",
      "20190101T215529 20190101T201359 020400 RPRO\n",
      "/n/holylfs05/LABS/jacob_lab/imi/ch4/tropomi/S5P_RPRO_L2__CH4____20190101T215529_20190101T233659_06321_03_020400_20221118T040310.nc\n",
      "20190101T233659 20190101T215529 020400 RPRO\n",
      "/n/holylfs05/LABS/jacob_lab/imi/ch4/tropomi/S5P_RPRO_L2__CH4____20190101T233659_20190102T011828_06322_03_020400_20221118T040312.nc\n",
      "20190102T011828 20190101T233659 020400 RPRO\n"
     ]
    }
   ],
   "source": [
    "tpat = f'{tropomidir}/*{gc_startdate.strftime(\"%Y%m%d\")}*.nc'\n",
    "tpaths = sorted(glob(tpat))\n",
    "# remove if not day of interest \n",
    "#[print(f) for f in tpaths]\n",
    "for f in tpaths:\n",
    "    print(f)\n",
    "    datestr = gc_startdate.strftime('%Y%m%d')\n",
    "    dstart = f.split('_')[-5]\n",
    "    dend = f.split('_')[-6]\n",
    "    myversion = f.split('_')[-2]\n",
    "    mykind = f.split('_')[-13]\n",
    "    print(dstart, dend, myversion, mykind)\n",
    "    if (\n",
    "        ((datestr in dstart) | (datestr in dend )) &\n",
    "        (mykind in ['RPRO']) &\n",
    "        (myversion in ['020400'])\n",
    "    ):\n",
    "        continue\n",
    "    else:\n",
    "        print(f'skipping {f}')\n",
    "        tpaths = [myf for myf in tpaths if myf != f]\n",
    "    print()\n",
    "#print(tpaths)"
   ]
  },
  {
   "cell_type": "code",
   "execution_count": 106,
   "id": "d4b83ff5-dfb0-48a6-8a89-1746f71be58b",
   "metadata": {},
   "outputs": [],
   "source": [
    "TROPOMI = tropomi.read_tropomi('/n/holylfs05/LABS/jacob_lab/imi/ch4/tropomi/S5P_RPRO_L2__CH4____20190101T233659_20190102T011828_06322_03_020400_20221118T040312.nc')"
   ]
  },
  {
   "cell_type": "code",
   "execution_count": 107,
   "id": "41de01ff-9348-4bda-8bcd-37a17cd2b6f9",
   "metadata": {},
   "outputs": [],
   "source": [
    "xlim = np.array([-180,180])\n",
    "ylim = np.array([-90,90])"
   ]
  },
  {
   "cell_type": "code",
   "execution_count": 113,
   "id": "fb05386d-a553-4849-9d66-6f5d7065bac8",
   "metadata": {},
   "outputs": [],
   "source": [
    "def filter_tropomi(tropomi_data, xlim, ylim, startdate, enddate):\n",
    "    \"\"\"\n",
    "    Description:\n",
    "        Filter out any data that does not meet the following\n",
    "        criteria: We only consider data within lat/lon/time bounds,\n",
    "        with QA > 0.5, and with safe surface albedo values\n",
    "    Returns:\n",
    "        numpy array with satellite indices for filtered tropomi data.\n",
    "    \"\"\"\n",
    "    return np.where(\n",
    "        #(tropomi_data[\"longitude\"] > xlim[0]) &\n",
    "        #(tropomi_data[\"longitude\"] < xlim[1]) &\n",
    "        #(tropomi_data[\"latitude\"] > ylim[0]) &\n",
    "        #(tropomi_data[\"latitude\"] < ylim[1]) #&\n",
    "        (tropomi_data[\"time\"] >= startdate) &\n",
    "        (tropomi_data[\"time\"] <= enddate) #&\n",
    "        #(tropomi_data[\"qa_value\"] >= 0.5) &\n",
    "        #(tropomi_data[\"swir_albedo\"] > 0.05) &\n",
    "        #(tropomi_data[\"blended_albedo\"] < 0.85)\n",
    "    )"
   ]
  },
  {
   "cell_type": "code",
   "execution_count": 114,
   "id": "738cd69d-6141-42c8-beb5-c9910adf8124",
   "metadata": {},
   "outputs": [],
   "source": [
    "sat_ind = filter_tropomi(TROPOMI, xlim, ylim, gc_startdate, gc_enddate)"
   ]
  },
  {
   "cell_type": "code",
   "execution_count": 115,
   "id": "fbea7f3d-73f9-412d-a83c-ce0d26ea1132",
   "metadata": {},
   "outputs": [
    {
     "data": {
      "text/plain": [
       "697890"
      ]
     },
     "execution_count": 115,
     "metadata": {},
     "output_type": "execute_result"
    }
   ],
   "source": [
    "TROPOMI['methane'].size"
   ]
  },
  {
   "cell_type": "code",
   "execution_count": 116,
   "id": "9ef78584-713b-4114-89b3-aaeff56ac4f0",
   "metadata": {},
   "outputs": [
    {
     "data": {
      "text/plain": [
       "17415"
      ]
     },
     "execution_count": 116,
     "metadata": {},
     "output_type": "execute_result"
    }
   ],
   "source": [
    "sat_ind[0].size"
   ]
  },
  {
   "cell_type": "code",
   "execution_count": 117,
   "id": "902a7047-a660-4e1e-9059-1bafc883b339",
   "metadata": {},
   "outputs": [
    {
     "data": {
      "text/plain": [
       "0.9750462107208873"
      ]
     },
     "execution_count": 117,
     "metadata": {},
     "output_type": "execute_result"
    }
   ],
   "source": [
    "(TROPOMI['methane'].size - sat_ind[0].size)/TROPOMI['methane'].size"
   ]
  },
  {
   "cell_type": "code",
   "execution_count": 64,
   "id": "73a0570b-fea3-40da-99cd-399271ef7062",
   "metadata": {},
   "outputs": [],
   "source": [
    "dstmp = [tropomi.accumulate_to_dataset(obs['obs_GC'],gc_cache) for obs in tfs1]\n",
    "dstmp = [ds for ds in dstmp if ds is not None]"
   ]
  },
  {
   "cell_type": "code",
   "execution_count": 65,
   "id": "a89f94bd-95d4-4595-a598-65a8688d66c7",
   "metadata": {},
   "outputs": [],
   "source": [
    "ds = xr.merge(dstmp,compat='no_conflicts')"
   ]
  },
  {
   "cell_type": "code",
   "execution_count": 66,
   "id": "9ffb126a-c380-4aa4-bfe0-de318e422123",
   "metadata": {},
   "outputs": [
    {
     "data": {
      "text/plain": [
       "<matplotlib.collections.QuadMesh at 0x2aade4e97eb0>"
      ]
     },
     "execution_count": 66,
     "metadata": {},
     "output_type": "execute_result"
    },
    {
     "data": {
      "image/png": "[encoded data removed]",
      "text/plain": [
       "<Figure size 640x480 with 2 Axes>"
      ]
     },
     "metadata": {},
     "output_type": "display_data"
    }
   ],
   "source": [
    "ds['tropomi_methane'].mean('time').plot(vmin=1765,vmax=1910)"
   ]
  },
  {
   "cell_type": "code",
   "execution_count": 67,
   "id": "2c28510c-21e9-48fd-872d-a7107d13a7ae",
   "metadata": {},
   "outputs": [
    {
     "data": {
      "text/plain": [
       "<matplotlib.collections.QuadMesh at 0x2aade3163b50>"
      ]
     },
     "execution_count": 67,
     "metadata": {},
     "output_type": "execute_result"
    },
    {
     "data": {
      "image/png": "[encoded data removed]",
      "text/plain": [
       "<Figure size 640x480 with 2 Axes>"
      ]
     },
     "metadata": {},
     "output_type": "display_data"
    }
   ],
   "source": [
    "ds['geoschem_methane'].mean('time').plot(vmin=1765,vmax=1910)"
   ]
  },
  {
   "cell_type": "code",
   "execution_count": 14,
   "id": "b7ffcaed-5564-4fc0-8d86-fccdb2c927bf",
   "metadata": {},
   "outputs": [
    {
     "data": {
      "text/html": [
       "<div><svg style=\"position: absolute; width: 0; height: 0; overflow: hidden\">\n",
       "<defs>\n",
       "<symbol id=\"icon-database\" viewBox=\"0 0 32 32\">\n",
       "<path d=\"M16 0c-8.837 0-16 2.239-16 5v4c0 2.761 7.163 5 16 5s16-2.239 16-5v-4c0-2.761-7.163-5-16-5z\"></path>\n",
       "<path d=\"M16 17c-8.837 0-16-2.239-16-5v6c0 2.761 7.163 5 16 5s16-2.239 16-5v-6c0 2.761-7.163 5-16 5z\"></path>\n",
       "<path d=\"M16 26c-8.837 0-16-2.239-16-5v6c0 2.761 7.163 5 16 5s16-2.239 16-5v-6c0 2.761-7.163 5-16 5z\"></path>\n",
       "</symbol>\n",
       "<symbol id=\"icon-file-text2\" viewBox=\"0 0 32 32\">\n",
       "<path d=\"M28.681 7.159c-0.694-0.947-1.662-2.053-2.724-3.116s-2.169-2.030-3.116-2.724c-1.612-1.182-2.393-1.319-2.841-1.319h-15.5c-1.378 0-2.5 1.121-2.5 2.5v27c0 1.378 1.122 2.5 2.5 2.5h23c1.378 0 2.5-1.122 2.5-2.5v-19.5c0-0.448-0.137-1.23-1.319-2.841zM24.543 5.457c0.959 0.959 1.712 1.825 2.268 2.543h-4.811v-4.811c0.718 0.556 1.584 1.309 2.543 2.268zM28 29.5c0 0.271-0.229 0.5-0.5 0.5h-23c-0.271 0-0.5-0.229-0.5-0.5v-27c0-0.271 0.229-0.5 0.5-0.5 0 0 15.499-0 15.5 0v7c0 0.552 0.448 1 1 1h7v19.5z\"></path>\n",
       "<path d=\"M23 26h-14c-0.552 0-1-0.448-1-1s0.448-1 1-1h14c0.552 0 1 0.448 1 1s-0.448 1-1 1z\"></path>\n",
       "<path d=\"M23 22h-14c-0.552 0-1-0.448-1-1s0.448-1 1-1h14c0.552 0 1 0.448 1 1s-0.448 1-1 1z\"></path>\n",
       "<path d=\"M23 18h-14c-0.552 0-1-0.448-1-1s0.448-1 1-1h14c0.552 0 1 0.448 1 1s-0.448 1-1 1z\"></path>\n",
       "</symbol>\n",
       "</defs>\n",
       "</svg>\n",
       "<style>/* CSS stylesheet for displaying xarray objects in jupyterlab.\n",
       " *\n",
       " */\n",
       "\n",
       ":root {\n",
       "  --xr-font-color0: var(--jp-content-font-color0, rgba(0, 0, 0, 1));\n",
       "  --xr-font-color2: var(--jp-content-font-color2, rgba(0, 0, 0, 0.54));\n",
       "  --xr-font-color3: var(--jp-content-font-color3, rgba(0, 0, 0, 0.38));\n",
       "  --xr-border-color: var(--jp-border-color2, #e0e0e0);\n",
       "  --xr-disabled-color: var(--jp-layout-color3, #bdbdbd);\n",
       "  --xr-background-color: var(--jp-layout-color0, white);\n",
       "  --xr-background-color-row-even: var(--jp-layout-color1, white);\n",
       "  --xr-background-color-row-odd: var(--jp-layout-color2, #eeeeee);\n",
       "}\n",
       "\n",
       "html[theme=dark],\n",
       "body[data-theme=dark],\n",
       "body.vscode-dark {\n",
       "  --xr-font-color0: rgba(255, 255, 255, 1);\n",
       "  --xr-font-color2: rgba(255, 255, 255, 0.54);\n",
       "  --xr-font-color3: rgba(255, 255, 255, 0.38);\n",
       "  --xr-border-color: #1F1F1F;\n",
       "  --xr-disabled-color: #515151;\n",
       "  --xr-background-color: #111111;\n",
       "  --xr-background-color-row-even: #111111;\n",
       "  --xr-background-color-row-odd: #313131;\n",
       "}\n",
       "\n",
       ".xr-wrap {\n",
       "  display: block !important;\n",
       "  min-width: 300px;\n",
       "  max-width: 700px;\n",
       "}\n",
       "\n",
       ".xr-text-repr-fallback {\n",
       "  /* fallback to plain text repr when CSS is not injected (untrusted notebook) */\n",
       "  display: none;\n",
       "}\n",
       "\n",
       ".xr-header {\n",
       "  padding-top: 6px;\n",
       "  padding-bottom: 6px;\n",
       "  margin-bottom: 4px;\n",
       "  border-bottom: solid 1px var(--xr-border-color);\n",
       "}\n",
       "\n",
       ".xr-header > div,\n",
       ".xr-header > ul {\n",
       "  display: inline;\n",
       "  margin-top: 0;\n",
       "  margin-bottom: 0;\n",
       "}\n",
       "\n",
       ".xr-obj-type,\n",
       ".xr-array-name {\n",
       "  margin-left: 2px;\n",
       "  margin-right: 10px;\n",
       "}\n",
       "\n",
       ".xr-obj-type {\n",
       "  color: var(--xr-font-color2);\n",
       "}\n",
       "\n",
       ".xr-sections {\n",
       "  padding-left: 0 !important;\n",
       "  display: grid;\n",
       "  grid-template-columns: 150px auto auto 1fr 20px 20px;\n",
       "}\n",
       "\n",
       ".xr-section-item {\n",
       "  display: contents;\n",
       "}\n",
       "\n",
       ".xr-section-item input {\n",
       "  display: none;\n",
       "}\n",
       "\n",
       ".xr-section-item input + label {\n",
       "  color: var(--xr-disabled-color);\n",
       "}\n",
       "\n",
       ".xr-section-item input:enabled + label {\n",
       "  cursor: pointer;\n",
       "  color: var(--xr-font-color2);\n",
       "}\n",
       "\n",
       ".xr-section-item input:enabled + label:hover {\n",
       "  color: var(--xr-font-color0);\n",
       "}\n",
       "\n",
       ".xr-section-summary {\n",
       "  grid-column: 1;\n",
       "  color: var(--xr-font-color2);\n",
       "  font-weight: 500;\n",
       "}\n",
       "\n",
       ".xr-section-summary > span {\n",
       "  display: inline-block;\n",
       "  padding-left: 0.5em;\n",
       "}\n",
       "\n",
       ".xr-section-summary-in:disabled + label {\n",
       "  color: var(--xr-font-color2);\n",
       "}\n",
       "\n",
       ".xr-section-summary-in + label:before {\n",
       "  display: inline-block;\n",
       "  content: '►';\n",
       "  font-size: 11px;\n",
       "  width: 15px;\n",
       "  text-align: center;\n",
       "}\n",
       "\n",
       ".xr-section-summary-in:disabled + label:before {\n",
       "  color: var(--xr-disabled-color);\n",
       "}\n",
       "\n",
       ".xr-section-summary-in:checked + label:before {\n",
       "  content: '▼';\n",
       "}\n",
       "\n",
       ".xr-section-summary-in:checked + label > span {\n",
       "  display: none;\n",
       "}\n",
       "\n",
       ".xr-section-summary,\n",
       ".xr-section-inline-details {\n",
       "  padding-top: 4px;\n",
       "  padding-bottom: 4px;\n",
       "}\n",
       "\n",
       ".xr-section-inline-details {\n",
       "  grid-column: 2 / -1;\n",
       "}\n",
       "\n",
       ".xr-section-details {\n",
       "  display: none;\n",
       "  grid-column: 1 / -1;\n",
       "  margin-bottom: 5px;\n",
       "}\n",
       "\n",
       ".xr-section-summary-in:checked ~ .xr-section-details {\n",
       "  display: contents;\n",
       "}\n",
       "\n",
       ".xr-array-wrap {\n",
       "  grid-column: 1 / -1;\n",
       "  display: grid;\n",
       "  grid-template-columns: 20px auto;\n",
       "}\n",
       "\n",
       ".xr-array-wrap > label {\n",
       "  grid-column: 1;\n",
       "  vertical-align: top;\n",
       "}\n",
       "\n",
       ".xr-preview {\n",
       "  color: var(--xr-font-color3);\n",
       "}\n",
       "\n",
       ".xr-array-preview,\n",
       ".xr-array-data {\n",
       "  padding: 0 5px !important;\n",
       "  grid-column: 2;\n",
       "}\n",
       "\n",
       ".xr-array-data,\n",
       ".xr-array-in:checked ~ .xr-array-preview {\n",
       "  display: none;\n",
       "}\n",
       "\n",
       ".xr-array-in:checked ~ .xr-array-data,\n",
       ".xr-array-preview {\n",
       "  display: inline-block;\n",
       "}\n",
       "\n",
       ".xr-dim-list {\n",
       "  display: inline-block !important;\n",
       "  list-style: none;\n",
       "  padding: 0 !important;\n",
       "  margin: 0;\n",
       "}\n",
       "\n",
       ".xr-dim-list li {\n",
       "  display: inline-block;\n",
       "  padding: 0;\n",
       "  margin: 0;\n",
       "}\n",
       "\n",
       ".xr-dim-list:before {\n",
       "  content: '(';\n",
       "}\n",
       "\n",
       ".xr-dim-list:after {\n",
       "  content: ')';\n",
       "}\n",
       "\n",
       ".xr-dim-list li:not(:last-child):after {\n",
       "  content: ',';\n",
       "  padding-right: 5px;\n",
       "}\n",
       "\n",
       ".xr-has-index {\n",
       "  font-weight: bold;\n",
       "}\n",
       "\n",
       ".xr-var-list,\n",
       ".xr-var-item {\n",
       "  display: contents;\n",
       "}\n",
       "\n",
       ".xr-var-item > div,\n",
       ".xr-var-item label,\n",
       ".xr-var-item > .xr-var-name span {\n",
       "  background-color: var(--xr-background-color-row-even);\n",
       "  margin-bottom: 0;\n",
       "}\n",
       "\n",
       ".xr-var-item > .xr-var-name:hover span {\n",
       "  padding-right: 5px;\n",
       "}\n",
       "\n",
       ".xr-var-list > li:nth-child(odd) > div,\n",
       ".xr-var-list > li:nth-child(odd) > label,\n",
       ".xr-var-list > li:nth-child(odd) > .xr-var-name span {\n",
       "  background-color: var(--xr-background-color-row-odd);\n",
       "}\n",
       "\n",
       ".xr-var-name {\n",
       "  grid-column: 1;\n",
       "}\n",
       "\n",
       ".xr-var-dims {\n",
       "  grid-column: 2;\n",
       "}\n",
       "\n",
       ".xr-var-dtype {\n",
       "  grid-column: 3;\n",
       "  text-align: right;\n",
       "  color: var(--xr-font-color2);\n",
       "}\n",
       "\n",
       ".xr-var-preview {\n",
       "  grid-column: 4;\n",
       "}\n",
       "\n",
       ".xr-index-preview {\n",
       "  grid-column: 2 / 5;\n",
       "  color: var(--xr-font-color2);\n",
       "}\n",
       "\n",
       ".xr-var-name,\n",
       ".xr-var-dims,\n",
       ".xr-var-dtype,\n",
       ".xr-preview,\n",
       ".xr-attrs dt {\n",
       "  white-space: nowrap;\n",
       "  overflow: hidden;\n",
       "  text-overflow: ellipsis;\n",
       "  padding-right: 10px;\n",
       "}\n",
       "\n",
       ".xr-var-name:hover,\n",
       ".xr-var-dims:hover,\n",
       ".xr-var-dtype:hover,\n",
       ".xr-attrs dt:hover {\n",
       "  overflow: visible;\n",
       "  width: auto;\n",
       "  z-index: 1;\n",
       "}\n",
       "\n",
       ".xr-var-attrs,\n",
       ".xr-var-data,\n",
       ".xr-index-data {\n",
       "  display: none;\n",
       "  background-color: var(--xr-background-color) !important;\n",
       "  padding-bottom: 5px !important;\n",
       "}\n",
       "\n",
       ".xr-var-attrs-in:checked ~ .xr-var-attrs,\n",
       ".xr-var-data-in:checked ~ .xr-var-data,\n",
       ".xr-index-data-in:checked ~ .xr-index-data {\n",
       "  display: block;\n",
       "}\n",
       "\n",
       ".xr-var-data > table {\n",
       "  float: right;\n",
       "}\n",
       "\n",
       ".xr-var-name span,\n",
       ".xr-var-data,\n",
       ".xr-index-name div,\n",
       ".xr-index-data,\n",
       ".xr-attrs {\n",
       "  padding-left: 25px !important;\n",
       "}\n",
       "\n",
       ".xr-attrs,\n",
       ".xr-var-attrs,\n",
       ".xr-var-data,\n",
       ".xr-index-data {\n",
       "  grid-column: 1 / -1;\n",
       "}\n",
       "\n",
       "dl.xr-attrs {\n",
       "  padding: 0;\n",
       "  margin: 0;\n",
       "  display: grid;\n",
       "  grid-template-columns: 125px auto;\n",
       "}\n",
       "\n",
       ".xr-attrs dt,\n",
       ".xr-attrs dd {\n",
       "  padding: 0;\n",
       "  margin: 0;\n",
       "  float: left;\n",
       "  padding-right: 10px;\n",
       "  width: auto;\n",
       "}\n",
       "\n",
       ".xr-attrs dt {\n",
       "  font-weight: normal;\n",
       "  grid-column: 1;\n",
       "}\n",
       "\n",
       ".xr-attrs dt:hover span {\n",
       "  display: inline-block;\n",
       "  background: var(--xr-background-color);\n",
       "  padding-right: 10px;\n",
       "}\n",
       "\n",
       ".xr-attrs dd {\n",
       "  grid-column: 2;\n",
       "  white-space: pre-wrap;\n",
       "  word-break: break-all;\n",
       "}\n",
       "\n",
       ".xr-icon-database,\n",
       ".xr-icon-file-text2,\n",
       ".xr-no-icon {\n",
       "  display: inline-block;\n",
       "  vertical-align: middle;\n",
       "  width: 1em;\n",
       "  height: 1.5em !important;\n",
       "  stroke-width: 0;\n",
       "  stroke: currentColor;\n",
       "  fill: currentColor;\n",
       "}\n",
       "</style><pre class='xr-text-repr-fallback'>&lt;xarray.DataArray &#x27;geoschem_methane&#x27; ()&gt;\n",
       "array(1842.71909149)</pre><div class='xr-wrap' style='display:none'><div class='xr-header'><div class='xr-obj-type'>xarray.DataArray</div><div class='xr-array-name'>'geoschem_methane'</div></div><ul class='xr-sections'><li class='xr-section-item'><div class='xr-array-wrap'><input id='section-8f33de5f-404f-443a-b924-28430604990b' class='xr-array-in' type='checkbox' checked><label for='section-8f33de5f-404f-443a-b924-28430604990b' title='Show/hide data repr'><svg class='icon xr-icon-database'><use xlink:href='#icon-database'></use></svg></label><div class='xr-array-preview xr-preview'><span>1.843e+03</span></div><div class='xr-array-data'><pre>array(1842.71909149)</pre></div></div></li><li class='xr-section-item'><input id='section-ae713962-4490-4d73-a53a-245c7aeaa1e5' class='xr-section-summary-in' type='checkbox' disabled ><label for='section-ae713962-4490-4d73-a53a-245c7aeaa1e5' class='xr-section-summary'  title='Expand/collapse section'>Coordinates: <span>(0)</span></label><div class='xr-section-inline-details'></div><div class='xr-section-details'><ul class='xr-var-list'></ul></div></li><li class='xr-section-item'><input id='section-35f14d06-df68-47d6-90a5-5edf80d2020f' class='xr-section-summary-in' type='checkbox' disabled ><label for='section-35f14d06-df68-47d6-90a5-5edf80d2020f' class='xr-section-summary'  title='Expand/collapse section'>Indexes: <span>(0)</span></label><div class='xr-section-inline-details'></div><div class='xr-section-details'><ul class='xr-var-list'></ul></div></li><li class='xr-section-item'><input id='section-bd6351a9-d1a7-4ab7-8c43-d2f0e5b3e4d8' class='xr-section-summary-in' type='checkbox' disabled ><label for='section-bd6351a9-d1a7-4ab7-8c43-d2f0e5b3e4d8' class='xr-section-summary'  title='Expand/collapse section'>Attributes: <span>(0)</span></label><div class='xr-section-inline-details'></div><div class='xr-section-details'><dl class='xr-attrs'></dl></div></li></ul></div></div>"
      ],
      "text/plain": [
       "<xarray.DataArray 'geoschem_methane' ()>\n",
       "array(1842.71909149)"
      ]
     },
     "execution_count": 14,
     "metadata": {},
     "output_type": "execute_result"
    }
   ],
   "source": [
    "ds['geoschem_methane'].mean()"
   ]
  },
  {
   "cell_type": "code",
   "execution_count": 15,
   "id": "3988bc1f-6ca4-464e-b666-be15338b897f",
   "metadata": {},
   "outputs": [
    {
     "data": {
      "text/html": [
       "<div><svg style=\"position: absolute; width: 0; height: 0; overflow: hidden\">\n",
       "<defs>\n",
       "<symbol id=\"icon-database\" viewBox=\"0 0 32 32\">\n",
       "<path d=\"M16 0c-8.837 0-16 2.239-16 5v4c0 2.761 7.163 5 16 5s16-2.239 16-5v-4c0-2.761-7.163-5-16-5z\"></path>\n",
       "<path d=\"M16 17c-8.837 0-16-2.239-16-5v6c0 2.761 7.163 5 16 5s16-2.239 16-5v-6c0 2.761-7.163 5-16 5z\"></path>\n",
       "<path d=\"M16 26c-8.837 0-16-2.239-16-5v6c0 2.761 7.163 5 16 5s16-2.239 16-5v-6c0 2.761-7.163 5-16 5z\"></path>\n",
       "</symbol>\n",
       "<symbol id=\"icon-file-text2\" viewBox=\"0 0 32 32\">\n",
       "<path d=\"M28.681 7.159c-0.694-0.947-1.662-2.053-2.724-3.116s-2.169-2.030-3.116-2.724c-1.612-1.182-2.393-1.319-2.841-1.319h-15.5c-1.378 0-2.5 1.121-2.5 2.5v27c0 1.378 1.122 2.5 2.5 2.5h23c1.378 0 2.5-1.122 2.5-2.5v-19.5c0-0.448-0.137-1.23-1.319-2.841zM24.543 5.457c0.959 0.959 1.712 1.825 2.268 2.543h-4.811v-4.811c0.718 0.556 1.584 1.309 2.543 2.268zM28 29.5c0 0.271-0.229 0.5-0.5 0.5h-23c-0.271 0-0.5-0.229-0.5-0.5v-27c0-0.271 0.229-0.5 0.5-0.5 0 0 15.499-0 15.5 0v7c0 0.552 0.448 1 1 1h7v19.5z\"></path>\n",
       "<path d=\"M23 26h-14c-0.552 0-1-0.448-1-1s0.448-1 1-1h14c0.552 0 1 0.448 1 1s-0.448 1-1 1z\"></path>\n",
       "<path d=\"M23 22h-14c-0.552 0-1-0.448-1-1s0.448-1 1-1h14c0.552 0 1 0.448 1 1s-0.448 1-1 1z\"></path>\n",
       "<path d=\"M23 18h-14c-0.552 0-1-0.448-1-1s0.448-1 1-1h14c0.552 0 1 0.448 1 1s-0.448 1-1 1z\"></path>\n",
       "</symbol>\n",
       "</defs>\n",
       "</svg>\n",
       "<style>/* CSS stylesheet for displaying xarray objects in jupyterlab.\n",
       " *\n",
       " */\n",
       "\n",
       ":root {\n",
       "  --xr-font-color0: var(--jp-content-font-color0, rgba(0, 0, 0, 1));\n",
       "  --xr-font-color2: var(--jp-content-font-color2, rgba(0, 0, 0, 0.54));\n",
       "  --xr-font-color3: var(--jp-content-font-color3, rgba(0, 0, 0, 0.38));\n",
       "  --xr-border-color: var(--jp-border-color2, #e0e0e0);\n",
       "  --xr-disabled-color: var(--jp-layout-color3, #bdbdbd);\n",
       "  --xr-background-color: var(--jp-layout-color0, white);\n",
       "  --xr-background-color-row-even: var(--jp-layout-color1, white);\n",
       "  --xr-background-color-row-odd: var(--jp-layout-color2, #eeeeee);\n",
       "}\n",
       "\n",
       "html[theme=dark],\n",
       "body[data-theme=dark],\n",
       "body.vscode-dark {\n",
       "  --xr-font-color0: rgba(255, 255, 255, 1);\n",
       "  --xr-font-color2: rgba(255, 255, 255, 0.54);\n",
       "  --xr-font-color3: rgba(255, 255, 255, 0.38);\n",
       "  --xr-border-color: #1F1F1F;\n",
       "  --xr-disabled-color: #515151;\n",
       "  --xr-background-color: #111111;\n",
       "  --xr-background-color-row-even: #111111;\n",
       "  --xr-background-color-row-odd: #313131;\n",
       "}\n",
       "\n",
       ".xr-wrap {\n",
       "  display: block !important;\n",
       "  min-width: 300px;\n",
       "  max-width: 700px;\n",
       "}\n",
       "\n",
       ".xr-text-repr-fallback {\n",
       "  /* fallback to plain text repr when CSS is not injected (untrusted notebook) */\n",
       "  display: none;\n",
       "}\n",
       "\n",
       ".xr-header {\n",
       "  padding-top: 6px;\n",
       "  padding-bottom: 6px;\n",
       "  margin-bottom: 4px;\n",
       "  border-bottom: solid 1px var(--xr-border-color);\n",
       "}\n",
       "\n",
       ".xr-header > div,\n",
       ".xr-header > ul {\n",
       "  display: inline;\n",
       "  margin-top: 0;\n",
       "  margin-bottom: 0;\n",
       "}\n",
       "\n",
       ".xr-obj-type,\n",
       ".xr-array-name {\n",
       "  margin-left: 2px;\n",
       "  margin-right: 10px;\n",
       "}\n",
       "\n",
       ".xr-obj-type {\n",
       "  color: var(--xr-font-color2);\n",
       "}\n",
       "\n",
       ".xr-sections {\n",
       "  padding-left: 0 !important;\n",
       "  display: grid;\n",
       "  grid-template-columns: 150px auto auto 1fr 20px 20px;\n",
       "}\n",
       "\n",
       ".xr-section-item {\n",
       "  display: contents;\n",
       "}\n",
       "\n",
       ".xr-section-item input {\n",
       "  display: none;\n",
       "}\n",
       "\n",
       ".xr-section-item input + label {\n",
       "  color: var(--xr-disabled-color);\n",
       "}\n",
       "\n",
       ".xr-section-item input:enabled + label {\n",
       "  cursor: pointer;\n",
       "  color: var(--xr-font-color2);\n",
       "}\n",
       "\n",
       ".xr-section-item input:enabled + label:hover {\n",
       "  color: var(--xr-font-color0);\n",
       "}\n",
       "\n",
       ".xr-section-summary {\n",
       "  grid-column: 1;\n",
       "  color: var(--xr-font-color2);\n",
       "  font-weight: 500;\n",
       "}\n",
       "\n",
       ".xr-section-summary > span {\n",
       "  display: inline-block;\n",
       "  padding-left: 0.5em;\n",
       "}\n",
       "\n",
       ".xr-section-summary-in:disabled + label {\n",
       "  color: var(--xr-font-color2);\n",
       "}\n",
       "\n",
       ".xr-section-summary-in + label:before {\n",
       "  display: inline-block;\n",
       "  content: '►';\n",
       "  font-size: 11px;\n",
       "  width: 15px;\n",
       "  text-align: center;\n",
       "}\n",
       "\n",
       ".xr-section-summary-in:disabled + label:before {\n",
       "  color: var(--xr-disabled-color);\n",
       "}\n",
       "\n",
       ".xr-section-summary-in:checked + label:before {\n",
       "  content: '▼';\n",
       "}\n",
       "\n",
       ".xr-section-summary-in:checked + label > span {\n",
       "  display: none;\n",
       "}\n",
       "\n",
       ".xr-section-summary,\n",
       ".xr-section-inline-details {\n",
       "  padding-top: 4px;\n",
       "  padding-bottom: 4px;\n",
       "}\n",
       "\n",
       ".xr-section-inline-details {\n",
       "  grid-column: 2 / -1;\n",
       "}\n",
       "\n",
       ".xr-section-details {\n",
       "  display: none;\n",
       "  grid-column: 1 / -1;\n",
       "  margin-bottom: 5px;\n",
       "}\n",
       "\n",
       ".xr-section-summary-in:checked ~ .xr-section-details {\n",
       "  display: contents;\n",
       "}\n",
       "\n",
       ".xr-array-wrap {\n",
       "  grid-column: 1 / -1;\n",
       "  display: grid;\n",
       "  grid-template-columns: 20px auto;\n",
       "}\n",
       "\n",
       ".xr-array-wrap > label {\n",
       "  grid-column: 1;\n",
       "  vertical-align: top;\n",
       "}\n",
       "\n",
       ".xr-preview {\n",
       "  color: var(--xr-font-color3);\n",
       "}\n",
       "\n",
       ".xr-array-preview,\n",
       ".xr-array-data {\n",
       "  padding: 0 5px !important;\n",
       "  grid-column: 2;\n",
       "}\n",
       "\n",
       ".xr-array-data,\n",
       ".xr-array-in:checked ~ .xr-array-preview {\n",
       "  display: none;\n",
       "}\n",
       "\n",
       ".xr-array-in:checked ~ .xr-array-data,\n",
       ".xr-array-preview {\n",
       "  display: inline-block;\n",
       "}\n",
       "\n",
       ".xr-dim-list {\n",
       "  display: inline-block !important;\n",
       "  list-style: none;\n",
       "  padding: 0 !important;\n",
       "  margin: 0;\n",
       "}\n",
       "\n",
       ".xr-dim-list li {\n",
       "  display: inline-block;\n",
       "  padding: 0;\n",
       "  margin: 0;\n",
       "}\n",
       "\n",
       ".xr-dim-list:before {\n",
       "  content: '(';\n",
       "}\n",
       "\n",
       ".xr-dim-list:after {\n",
       "  content: ')';\n",
       "}\n",
       "\n",
       ".xr-dim-list li:not(:last-child):after {\n",
       "  content: ',';\n",
       "  padding-right: 5px;\n",
       "}\n",
       "\n",
       ".xr-has-index {\n",
       "  font-weight: bold;\n",
       "}\n",
       "\n",
       ".xr-var-list,\n",
       ".xr-var-item {\n",
       "  display: contents;\n",
       "}\n",
       "\n",
       ".xr-var-item > div,\n",
       ".xr-var-item label,\n",
       ".xr-var-item > .xr-var-name span {\n",
       "  background-color: var(--xr-background-color-row-even);\n",
       "  margin-bottom: 0;\n",
       "}\n",
       "\n",
       ".xr-var-item > .xr-var-name:hover span {\n",
       "  padding-right: 5px;\n",
       "}\n",
       "\n",
       ".xr-var-list > li:nth-child(odd) > div,\n",
       ".xr-var-list > li:nth-child(odd) > label,\n",
       ".xr-var-list > li:nth-child(odd) > .xr-var-name span {\n",
       "  background-color: var(--xr-background-color-row-odd);\n",
       "}\n",
       "\n",
       ".xr-var-name {\n",
       "  grid-column: 1;\n",
       "}\n",
       "\n",
       ".xr-var-dims {\n",
       "  grid-column: 2;\n",
       "}\n",
       "\n",
       ".xr-var-dtype {\n",
       "  grid-column: 3;\n",
       "  text-align: right;\n",
       "  color: var(--xr-font-color2);\n",
       "}\n",
       "\n",
       ".xr-var-preview {\n",
       "  grid-column: 4;\n",
       "}\n",
       "\n",
       ".xr-index-preview {\n",
       "  grid-column: 2 / 5;\n",
       "  color: var(--xr-font-color2);\n",
       "}\n",
       "\n",
       ".xr-var-name,\n",
       ".xr-var-dims,\n",
       ".xr-var-dtype,\n",
       ".xr-preview,\n",
       ".xr-attrs dt {\n",
       "  white-space: nowrap;\n",
       "  overflow: hidden;\n",
       "  text-overflow: ellipsis;\n",
       "  padding-right: 10px;\n",
       "}\n",
       "\n",
       ".xr-var-name:hover,\n",
       ".xr-var-dims:hover,\n",
       ".xr-var-dtype:hover,\n",
       ".xr-attrs dt:hover {\n",
       "  overflow: visible;\n",
       "  width: auto;\n",
       "  z-index: 1;\n",
       "}\n",
       "\n",
       ".xr-var-attrs,\n",
       ".xr-var-data,\n",
       ".xr-index-data {\n",
       "  display: none;\n",
       "  background-color: var(--xr-background-color) !important;\n",
       "  padding-bottom: 5px !important;\n",
       "}\n",
       "\n",
       ".xr-var-attrs-in:checked ~ .xr-var-attrs,\n",
       ".xr-var-data-in:checked ~ .xr-var-data,\n",
       ".xr-index-data-in:checked ~ .xr-index-data {\n",
       "  display: block;\n",
       "}\n",
       "\n",
       ".xr-var-data > table {\n",
       "  float: right;\n",
       "}\n",
       "\n",
       ".xr-var-name span,\n",
       ".xr-var-data,\n",
       ".xr-index-name div,\n",
       ".xr-index-data,\n",
       ".xr-attrs {\n",
       "  padding-left: 25px !important;\n",
       "}\n",
       "\n",
       ".xr-attrs,\n",
       ".xr-var-attrs,\n",
       ".xr-var-data,\n",
       ".xr-index-data {\n",
       "  grid-column: 1 / -1;\n",
       "}\n",
       "\n",
       "dl.xr-attrs {\n",
       "  padding: 0;\n",
       "  margin: 0;\n",
       "  display: grid;\n",
       "  grid-template-columns: 125px auto;\n",
       "}\n",
       "\n",
       ".xr-attrs dt,\n",
       ".xr-attrs dd {\n",
       "  padding: 0;\n",
       "  margin: 0;\n",
       "  float: left;\n",
       "  padding-right: 10px;\n",
       "  width: auto;\n",
       "}\n",
       "\n",
       ".xr-attrs dt {\n",
       "  font-weight: normal;\n",
       "  grid-column: 1;\n",
       "}\n",
       "\n",
       ".xr-attrs dt:hover span {\n",
       "  display: inline-block;\n",
       "  background: var(--xr-background-color);\n",
       "  padding-right: 10px;\n",
       "}\n",
       "\n",
       ".xr-attrs dd {\n",
       "  grid-column: 2;\n",
       "  white-space: pre-wrap;\n",
       "  word-break: break-all;\n",
       "}\n",
       "\n",
       ".xr-icon-database,\n",
       ".xr-icon-file-text2,\n",
       ".xr-no-icon {\n",
       "  display: inline-block;\n",
       "  vertical-align: middle;\n",
       "  width: 1em;\n",
       "  height: 1.5em !important;\n",
       "  stroke-width: 0;\n",
       "  stroke: currentColor;\n",
       "  fill: currentColor;\n",
       "}\n",
       "</style><pre class='xr-text-repr-fallback'>&lt;xarray.DataArray &#x27;tropomi_methane&#x27; ()&gt;\n",
       "array(1837.58707987)</pre><div class='xr-wrap' style='display:none'><div class='xr-header'><div class='xr-obj-type'>xarray.DataArray</div><div class='xr-array-name'>'tropomi_methane'</div></div><ul class='xr-sections'><li class='xr-section-item'><div class='xr-array-wrap'><input id='section-a2984526-e352-4776-96ad-d53835defb34' class='xr-array-in' type='checkbox' checked><label for='section-a2984526-e352-4776-96ad-d53835defb34' title='Show/hide data repr'><svg class='icon xr-icon-database'><use xlink:href='#icon-database'></use></svg></label><div class='xr-array-preview xr-preview'><span>1.838e+03</span></div><div class='xr-array-data'><pre>array(1837.58707987)</pre></div></div></li><li class='xr-section-item'><input id='section-a4806fed-9e3f-4371-ba1b-b28c34682fab' class='xr-section-summary-in' type='checkbox' disabled ><label for='section-a4806fed-9e3f-4371-ba1b-b28c34682fab' class='xr-section-summary'  title='Expand/collapse section'>Coordinates: <span>(0)</span></label><div class='xr-section-inline-details'></div><div class='xr-section-details'><ul class='xr-var-list'></ul></div></li><li class='xr-section-item'><input id='section-cf4ce794-4c66-4cb1-8992-d32a465679b8' class='xr-section-summary-in' type='checkbox' disabled ><label for='section-cf4ce794-4c66-4cb1-8992-d32a465679b8' class='xr-section-summary'  title='Expand/collapse section'>Indexes: <span>(0)</span></label><div class='xr-section-inline-details'></div><div class='xr-section-details'><ul class='xr-var-list'></ul></div></li><li class='xr-section-item'><input id='section-190d2202-3186-41d1-9321-9295fef8c35a' class='xr-section-summary-in' type='checkbox' disabled ><label for='section-190d2202-3186-41d1-9321-9295fef8c35a' class='xr-section-summary'  title='Expand/collapse section'>Attributes: <span>(0)</span></label><div class='xr-section-inline-details'></div><div class='xr-section-details'><dl class='xr-attrs'></dl></div></li></ul></div></div>"
      ],
      "text/plain": [
       "<xarray.DataArray 'tropomi_methane' ()>\n",
       "array(1837.58707987)"
      ]
     },
     "execution_count": 15,
     "metadata": {},
     "output_type": "execute_result"
    }
   ],
   "source": [
    "ds['tropomi_methane'].mean()"
   ]
  },
  {
   "cell_type": "code",
   "execution_count": null,
   "id": "0d5c76f4-90d0-4e3b-9fa4-d783d446f525",
   "metadata": {},
   "outputs": [],
   "source": []
  },
  {
   "cell_type": "code",
   "execution_count": null,
   "id": "d531b02e-e982-4a17-a03e-70906ae48bd2",
   "metadata": {},
   "outputs": [],
   "source": []
  },
  {
   "cell_type": "code",
   "execution_count": null,
   "id": "37e1e0b8-bfca-4b33-a03a-71b21add23dd",
   "metadata": {},
   "outputs": [],
   "source": []
  },
  {
   "cell_type": "code",
   "execution_count": null,
   "id": "9cf045fc-e314-4d9d-af5c-c15ad015d6e2",
   "metadata": {},
   "outputs": [],
   "source": []
  },
  {
   "cell_type": "code",
   "execution_count": null,
   "id": "c5240b9d-e492-4b1b-a7b5-c0766fbf9413",
   "metadata": {},
   "outputs": [],
   "source": []
  },
  {
   "cell_type": "code",
   "execution_count": null,
   "id": "67fa3354-a10f-4f1b-8de7-b251d0694898",
   "metadata": {},
   "outputs": [],
   "source": []
  },
  {
   "cell_type": "code",
   "execution_count": null,
   "id": "55c808dc-63b9-4678-8abd-61fb1e3e920f",
   "metadata": {},
   "outputs": [],
   "source": []
  },
  {
   "cell_type": "code",
   "execution_count": 12,
   "id": "b857d756-370f-4608-8572-85bfb928eea7",
   "metadata": {},
   "outputs": [],
   "source": [
    "ll = tropomi.get_gc_lat_lon(gc_cache,pd.to_datetime('20190101'))"
   ]
  },
  {
   "cell_type": "code",
   "execution_count": 14,
   "id": "13423501-3c55-4e50-9a36-69e58d7a8fe4",
   "metadata": {},
   "outputs": [
    {
     "data": {
      "text/plain": [
       "4"
      ]
     },
     "execution_count": 14,
     "metadata": {},
     "output_type": "execute_result"
    }
   ],
   "source": [
    "len(tfs1)"
   ]
  },
  {
   "cell_type": "code",
   "execution_count": 23,
   "id": "f83a4c27-7def-4b58-ac1e-1b10d10f2431",
   "metadata": {},
   "outputs": [],
   "source": [
    "import cftime"
   ]
  },
  {
   "cell_type": "code",
   "execution_count": 35,
   "id": "fe022ee0-401c-416d-81d3-3bd8039eb989",
   "metadata": {},
   "outputs": [],
   "source": [
    "hours2 = tfs1[0]['obs_GC'][:,7]"
   ]
  },
  {
   "cell_type": "code",
   "execution_count": 36,
   "id": "5e4770a3-8207-4624-aeac-afd3db1ca3e9",
   "metadata": {},
   "outputs": [
    {
     "data": {
      "text/plain": [
       "array([1, 1, 1, 1, 1, 1, 1, 1, 1, 1, 1, 1, 0, 0, 0, 0, 0, 0, 0])"
      ]
     },
     "execution_count": 36,
     "metadata": {},
     "output_type": "execute_result"
    }
   ],
   "source": [
    "(hours2 - hours2.min()).astype(int)"
   ]
  },
  {
   "cell_type": "code",
   "execution_count": 20,
   "id": "709c9cbb-cb0c-425c-a2c2-78c7f7b9b945",
   "metadata": {},
   "outputs": [
    {
     "data": {
      "text/plain": [
       "DatetimeIndex(['2019-01-02 17:00:00', '2019-01-02 18:00:00'], dtype='datetime64[ns]', freq=None)"
      ]
     },
     "execution_count": 20,
     "metadata": {},
     "output_type": "execute_result"
    }
   ],
   "source": [
    "tcoords"
   ]
  },
  {
   "cell_type": "code",
   "execution_count": 15,
   "id": "3d94306f-fa8a-42f7-b9c1-5b3819fd98ae",
   "metadata": {},
   "outputs": [
    {
     "data": {
      "text/plain": [
       "array([41., 42.], dtype=float32)"
      ]
     },
     "execution_count": 15,
     "metadata": {},
     "output_type": "execute_result"
    }
   ],
   "source": [
    "cfdates_all = np.unique(tfs1[0]['obs_GC'][:,7])"
   ]
  },
  {
   "cell_type": "code",
   "execution_count": null,
   "id": "03274127-7a74-421e-886e-ee406d8e7257",
   "metadata": {},
   "outputs": [],
   "source": [
    "dr = pd.date_range(gc_startdate,gc_enddate,freq='H')"
   ]
  },
  {
   "cell_type": "code",
   "execution_count": null,
   "id": "eb101c4c-e6b3-4fac-9c05-aee36e7573e4",
   "metadata": {},
   "outputs": [],
   "source": [
    "int(np.where(dr == pd.to_datetime('20190101_04',format='%Y%m%d_%H'))[0])"
   ]
  },
  {
   "cell_type": "code",
   "execution_count": null,
   "id": "8aff42bd-0ce8-40da-8f4b-e972c1936cbb",
   "metadata": {},
   "outputs": [],
   "source": [
    "import cftime"
   ]
  },
  {
   "cell_type": "code",
   "execution_count": 77,
   "id": "661059c8-b143-4fc6-8078-a6b10202076c",
   "metadata": {},
   "outputs": [
    {
     "data": {
      "text/plain": [
       "48"
      ]
     },
     "execution_count": 77,
     "metadata": {},
     "output_type": "execute_result"
    }
   ],
   "source": [
    "cftime.date2num(gc_enddate,'hours since 2019-01-01')"
   ]
  },
  {
   "cell_type": "code",
   "execution_count": 89,
   "id": "529515ff-b149-42fa-a7d4-cadbe746a643",
   "metadata": {},
   "outputs": [
    {
     "data": {
      "text/plain": [
       "'20190102_01:00:00'"
      ]
     },
     "execution_count": 89,
     "metadata": {},
     "output_type": "execute_result"
    }
   ],
   "source": [
    "cftime.num2date(25,'hours since 2019-01-01').strftime('%Y%m%d_%H:%M:%S')"
   ]
  },
  {
   "cell_type": "code",
   "execution_count": 93,
   "id": "145e3d92-9680-4edf-bdd7-89f6b74f1705",
   "metadata": {},
   "outputs": [
    {
     "data": {
      "text/plain": [
       "array([5, 6])"
      ]
     },
     "execution_count": 93,
     "metadata": {},
     "output_type": "execute_result"
    }
   ],
   "source": [
    "np.unique(tfs1[16]['obs_GC'][:,7]).astype(int)"
   ]
  },
  {
   "cell_type": "code",
   "execution_count": 122,
   "id": "bf13779c-e10d-49d0-92ba-2be37f46bd93",
   "metadata": {},
   "outputs": [],
   "source": [
    "hours = np.unique(tfs1[16]['obs_GC'][:,7])\n",
    "cfdates = cftime.num2date(hours,'hours since 2019-01-01')\n",
    "xr_tidx = xr.cftime_range(cfdates[0],cfdates[-1],freq='H').to_datetimeindex()"
   ]
  },
  {
   "cell_type": "code",
   "execution_count": 141,
   "id": "f7973c9f-328a-44e0-85e4-f0969b6d2f99",
   "metadata": {},
   "outputs": [],
   "source": [
    "hours2 = tfs1[16]['obs_GC'][:,7]\n",
    "cfdates2 = cftime.num2date(hours2,'hours since 2019-01-01')"
   ]
  },
  {
   "cell_type": "code",
   "execution_count": 144,
   "id": "8fac69cc-4ada-45d5-a148-7bd78fd3def2",
   "metadata": {},
   "outputs": [
    {
     "data": {
      "text/plain": [
       "DatetimeIndex(['2019-01-01 06:00:00', '2019-01-01 06:00:00',\n",
       "               '2019-01-01 06:00:00', '2019-01-01 06:00:00',\n",
       "               '2019-01-01 06:00:00', '2019-01-01 06:00:00',\n",
       "               '2019-01-01 06:00:00', '2019-01-01 06:00:00',\n",
       "               '2019-01-01 06:00:00', '2019-01-01 06:00:00',\n",
       "               ...\n",
       "               '2019-01-01 06:00:00', '2019-01-01 06:00:00',\n",
       "               '2019-01-01 06:00:00', '2019-01-01 05:00:00',\n",
       "               '2019-01-01 05:00:00', '2019-01-01 05:00:00',\n",
       "               '2019-01-01 06:00:00', '2019-01-01 05:00:00',\n",
       "               '2019-01-01 05:00:00', '2019-01-01 05:00:00'],\n",
       "              dtype='datetime64[ns]', length=102, freq=None)"
      ]
     },
     "execution_count": 144,
     "metadata": {},
     "output_type": "execute_result"
    }
   ],
   "source": [
    "xr.CFTimeIndex(cfdates2).to_datetimeindex()"
   ]
  },
  {
   "cell_type": "code",
   "execution_count": 127,
   "id": "17cde8a1-4fbc-4f66-a95c-f60625508203",
   "metadata": {},
   "outputs": [],
   "source": [
    "tmp = xr.Dataset(coords = {\n",
    "    'time':xr_tidx\n",
    "})"
   ]
  },
  {
   "cell_type": "code",
   "execution_count": 129,
   "id": "199ab17f-86ea-4340-a5f8-c696a356221b",
   "metadata": {},
   "outputs": [
    {
     "data": {
      "text/html": [
       "<div><svg style=\"position: absolute; width: 0; height: 0; overflow: hidden\">\n",
       "<defs>\n",
       "<symbol id=\"icon-database\" viewBox=\"0 0 32 32\">\n",
       "<path d=\"M16 0c-8.837 0-16 2.239-16 5v4c0 2.761 7.163 5 16 5s16-2.239 16-5v-4c0-2.761-7.163-5-16-5z\"></path>\n",
       "<path d=\"M16 17c-8.837 0-16-2.239-16-5v6c0 2.761 7.163 5 16 5s16-2.239 16-5v-6c0 2.761-7.163 5-16 5z\"></path>\n",
       "<path d=\"M16 26c-8.837 0-16-2.239-16-5v6c0 2.761 7.163 5 16 5s16-2.239 16-5v-6c0 2.761-7.163 5-16 5z\"></path>\n",
       "</symbol>\n",
       "<symbol id=\"icon-file-text2\" viewBox=\"0 0 32 32\">\n",
       "<path d=\"M28.681 7.159c-0.694-0.947-1.662-2.053-2.724-3.116s-2.169-2.030-3.116-2.724c-1.612-1.182-2.393-1.319-2.841-1.319h-15.5c-1.378 0-2.5 1.121-2.5 2.5v27c0 1.378 1.122 2.5 2.5 2.5h23c1.378 0 2.5-1.122 2.5-2.5v-19.5c0-0.448-0.137-1.23-1.319-2.841zM24.543 5.457c0.959 0.959 1.712 1.825 2.268 2.543h-4.811v-4.811c0.718 0.556 1.584 1.309 2.543 2.268zM28 29.5c0 0.271-0.229 0.5-0.5 0.5h-23c-0.271 0-0.5-0.229-0.5-0.5v-27c0-0.271 0.229-0.5 0.5-0.5 0 0 15.499-0 15.5 0v7c0 0.552 0.448 1 1 1h7v19.5z\"></path>\n",
       "<path d=\"M23 26h-14c-0.552 0-1-0.448-1-1s0.448-1 1-1h14c0.552 0 1 0.448 1 1s-0.448 1-1 1z\"></path>\n",
       "<path d=\"M23 22h-14c-0.552 0-1-0.448-1-1s0.448-1 1-1h14c0.552 0 1 0.448 1 1s-0.448 1-1 1z\"></path>\n",
       "<path d=\"M23 18h-14c-0.552 0-1-0.448-1-1s0.448-1 1-1h14c0.552 0 1 0.448 1 1s-0.448 1-1 1z\"></path>\n",
       "</symbol>\n",
       "</defs>\n",
       "</svg>\n",
       "<style>/* CSS stylesheet for displaying xarray objects in jupyterlab.\n",
       " *\n",
       " */\n",
       "\n",
       ":root {\n",
       "  --xr-font-color0: var(--jp-content-font-color0, rgba(0, 0, 0, 1));\n",
       "  --xr-font-color2: var(--jp-content-font-color2, rgba(0, 0, 0, 0.54));\n",
       "  --xr-font-color3: var(--jp-content-font-color3, rgba(0, 0, 0, 0.38));\n",
       "  --xr-border-color: var(--jp-border-color2, #e0e0e0);\n",
       "  --xr-disabled-color: var(--jp-layout-color3, #bdbdbd);\n",
       "  --xr-background-color: var(--jp-layout-color0, white);\n",
       "  --xr-background-color-row-even: var(--jp-layout-color1, white);\n",
       "  --xr-background-color-row-odd: var(--jp-layout-color2, #eeeeee);\n",
       "}\n",
       "\n",
       "html[theme=dark],\n",
       "body[data-theme=dark],\n",
       "body.vscode-dark {\n",
       "  --xr-font-color0: rgba(255, 255, 255, 1);\n",
       "  --xr-font-color2: rgba(255, 255, 255, 0.54);\n",
       "  --xr-font-color3: rgba(255, 255, 255, 0.38);\n",
       "  --xr-border-color: #1F1F1F;\n",
       "  --xr-disabled-color: #515151;\n",
       "  --xr-background-color: #111111;\n",
       "  --xr-background-color-row-even: #111111;\n",
       "  --xr-background-color-row-odd: #313131;\n",
       "}\n",
       "\n",
       ".xr-wrap {\n",
       "  display: block !important;\n",
       "  min-width: 300px;\n",
       "  max-width: 700px;\n",
       "}\n",
       "\n",
       ".xr-text-repr-fallback {\n",
       "  /* fallback to plain text repr when CSS is not injected (untrusted notebook) */\n",
       "  display: none;\n",
       "}\n",
       "\n",
       ".xr-header {\n",
       "  padding-top: 6px;\n",
       "  padding-bottom: 6px;\n",
       "  margin-bottom: 4px;\n",
       "  border-bottom: solid 1px var(--xr-border-color);\n",
       "}\n",
       "\n",
       ".xr-header > div,\n",
       ".xr-header > ul {\n",
       "  display: inline;\n",
       "  margin-top: 0;\n",
       "  margin-bottom: 0;\n",
       "}\n",
       "\n",
       ".xr-obj-type,\n",
       ".xr-array-name {\n",
       "  margin-left: 2px;\n",
       "  margin-right: 10px;\n",
       "}\n",
       "\n",
       ".xr-obj-type {\n",
       "  color: var(--xr-font-color2);\n",
       "}\n",
       "\n",
       ".xr-sections {\n",
       "  padding-left: 0 !important;\n",
       "  display: grid;\n",
       "  grid-template-columns: 150px auto auto 1fr 20px 20px;\n",
       "}\n",
       "\n",
       ".xr-section-item {\n",
       "  display: contents;\n",
       "}\n",
       "\n",
       ".xr-section-item input {\n",
       "  display: none;\n",
       "}\n",
       "\n",
       ".xr-section-item input + label {\n",
       "  color: var(--xr-disabled-color);\n",
       "}\n",
       "\n",
       ".xr-section-item input:enabled + label {\n",
       "  cursor: pointer;\n",
       "  color: var(--xr-font-color2);\n",
       "}\n",
       "\n",
       ".xr-section-item input:enabled + label:hover {\n",
       "  color: var(--xr-font-color0);\n",
       "}\n",
       "\n",
       ".xr-section-summary {\n",
       "  grid-column: 1;\n",
       "  color: var(--xr-font-color2);\n",
       "  font-weight: 500;\n",
       "}\n",
       "\n",
       ".xr-section-summary > span {\n",
       "  display: inline-block;\n",
       "  padding-left: 0.5em;\n",
       "}\n",
       "\n",
       ".xr-section-summary-in:disabled + label {\n",
       "  color: var(--xr-font-color2);\n",
       "}\n",
       "\n",
       ".xr-section-summary-in + label:before {\n",
       "  display: inline-block;\n",
       "  content: '►';\n",
       "  font-size: 11px;\n",
       "  width: 15px;\n",
       "  text-align: center;\n",
       "}\n",
       "\n",
       ".xr-section-summary-in:disabled + label:before {\n",
       "  color: var(--xr-disabled-color);\n",
       "}\n",
       "\n",
       ".xr-section-summary-in:checked + label:before {\n",
       "  content: '▼';\n",
       "}\n",
       "\n",
       ".xr-section-summary-in:checked + label > span {\n",
       "  display: none;\n",
       "}\n",
       "\n",
       ".xr-section-summary,\n",
       ".xr-section-inline-details {\n",
       "  padding-top: 4px;\n",
       "  padding-bottom: 4px;\n",
       "}\n",
       "\n",
       ".xr-section-inline-details {\n",
       "  grid-column: 2 / -1;\n",
       "}\n",
       "\n",
       ".xr-section-details {\n",
       "  display: none;\n",
       "  grid-column: 1 / -1;\n",
       "  margin-bottom: 5px;\n",
       "}\n",
       "\n",
       ".xr-section-summary-in:checked ~ .xr-section-details {\n",
       "  display: contents;\n",
       "}\n",
       "\n",
       ".xr-array-wrap {\n",
       "  grid-column: 1 / -1;\n",
       "  display: grid;\n",
       "  grid-template-columns: 20px auto;\n",
       "}\n",
       "\n",
       ".xr-array-wrap > label {\n",
       "  grid-column: 1;\n",
       "  vertical-align: top;\n",
       "}\n",
       "\n",
       ".xr-preview {\n",
       "  color: var(--xr-font-color3);\n",
       "}\n",
       "\n",
       ".xr-array-preview,\n",
       ".xr-array-data {\n",
       "  padding: 0 5px !important;\n",
       "  grid-column: 2;\n",
       "}\n",
       "\n",
       ".xr-array-data,\n",
       ".xr-array-in:checked ~ .xr-array-preview {\n",
       "  display: none;\n",
       "}\n",
       "\n",
       ".xr-array-in:checked ~ .xr-array-data,\n",
       ".xr-array-preview {\n",
       "  display: inline-block;\n",
       "}\n",
       "\n",
       ".xr-dim-list {\n",
       "  display: inline-block !important;\n",
       "  list-style: none;\n",
       "  padding: 0 !important;\n",
       "  margin: 0;\n",
       "}\n",
       "\n",
       ".xr-dim-list li {\n",
       "  display: inline-block;\n",
       "  padding: 0;\n",
       "  margin: 0;\n",
       "}\n",
       "\n",
       ".xr-dim-list:before {\n",
       "  content: '(';\n",
       "}\n",
       "\n",
       ".xr-dim-list:after {\n",
       "  content: ')';\n",
       "}\n",
       "\n",
       ".xr-dim-list li:not(:last-child):after {\n",
       "  content: ',';\n",
       "  padding-right: 5px;\n",
       "}\n",
       "\n",
       ".xr-has-index {\n",
       "  font-weight: bold;\n",
       "}\n",
       "\n",
       ".xr-var-list,\n",
       ".xr-var-item {\n",
       "  display: contents;\n",
       "}\n",
       "\n",
       ".xr-var-item > div,\n",
       ".xr-var-item label,\n",
       ".xr-var-item > .xr-var-name span {\n",
       "  background-color: var(--xr-background-color-row-even);\n",
       "  margin-bottom: 0;\n",
       "}\n",
       "\n",
       ".xr-var-item > .xr-var-name:hover span {\n",
       "  padding-right: 5px;\n",
       "}\n",
       "\n",
       ".xr-var-list > li:nth-child(odd) > div,\n",
       ".xr-var-list > li:nth-child(odd) > label,\n",
       ".xr-var-list > li:nth-child(odd) > .xr-var-name span {\n",
       "  background-color: var(--xr-background-color-row-odd);\n",
       "}\n",
       "\n",
       ".xr-var-name {\n",
       "  grid-column: 1;\n",
       "}\n",
       "\n",
       ".xr-var-dims {\n",
       "  grid-column: 2;\n",
       "}\n",
       "\n",
       ".xr-var-dtype {\n",
       "  grid-column: 3;\n",
       "  text-align: right;\n",
       "  color: var(--xr-font-color2);\n",
       "}\n",
       "\n",
       ".xr-var-preview {\n",
       "  grid-column: 4;\n",
       "}\n",
       "\n",
       ".xr-index-preview {\n",
       "  grid-column: 2 / 5;\n",
       "  color: var(--xr-font-color2);\n",
       "}\n",
       "\n",
       ".xr-var-name,\n",
       ".xr-var-dims,\n",
       ".xr-var-dtype,\n",
       ".xr-preview,\n",
       ".xr-attrs dt {\n",
       "  white-space: nowrap;\n",
       "  overflow: hidden;\n",
       "  text-overflow: ellipsis;\n",
       "  padding-right: 10px;\n",
       "}\n",
       "\n",
       ".xr-var-name:hover,\n",
       ".xr-var-dims:hover,\n",
       ".xr-var-dtype:hover,\n",
       ".xr-attrs dt:hover {\n",
       "  overflow: visible;\n",
       "  width: auto;\n",
       "  z-index: 1;\n",
       "}\n",
       "\n",
       ".xr-var-attrs,\n",
       ".xr-var-data,\n",
       ".xr-index-data {\n",
       "  display: none;\n",
       "  background-color: var(--xr-background-color) !important;\n",
       "  padding-bottom: 5px !important;\n",
       "}\n",
       "\n",
       ".xr-var-attrs-in:checked ~ .xr-var-attrs,\n",
       ".xr-var-data-in:checked ~ .xr-var-data,\n",
       ".xr-index-data-in:checked ~ .xr-index-data {\n",
       "  display: block;\n",
       "}\n",
       "\n",
       ".xr-var-data > table {\n",
       "  float: right;\n",
       "}\n",
       "\n",
       ".xr-var-name span,\n",
       ".xr-var-data,\n",
       ".xr-index-name div,\n",
       ".xr-index-data,\n",
       ".xr-attrs {\n",
       "  padding-left: 25px !important;\n",
       "}\n",
       "\n",
       ".xr-attrs,\n",
       ".xr-var-attrs,\n",
       ".xr-var-data,\n",
       ".xr-index-data {\n",
       "  grid-column: 1 / -1;\n",
       "}\n",
       "\n",
       "dl.xr-attrs {\n",
       "  padding: 0;\n",
       "  margin: 0;\n",
       "  display: grid;\n",
       "  grid-template-columns: 125px auto;\n",
       "}\n",
       "\n",
       ".xr-attrs dt,\n",
       ".xr-attrs dd {\n",
       "  padding: 0;\n",
       "  margin: 0;\n",
       "  float: left;\n",
       "  padding-right: 10px;\n",
       "  width: auto;\n",
       "}\n",
       "\n",
       ".xr-attrs dt {\n",
       "  font-weight: normal;\n",
       "  grid-column: 1;\n",
       "}\n",
       "\n",
       ".xr-attrs dt:hover span {\n",
       "  display: inline-block;\n",
       "  background: var(--xr-background-color);\n",
       "  padding-right: 10px;\n",
       "}\n",
       "\n",
       ".xr-attrs dd {\n",
       "  grid-column: 2;\n",
       "  white-space: pre-wrap;\n",
       "  word-break: break-all;\n",
       "}\n",
       "\n",
       ".xr-icon-database,\n",
       ".xr-icon-file-text2,\n",
       ".xr-no-icon {\n",
       "  display: inline-block;\n",
       "  vertical-align: middle;\n",
       "  width: 1em;\n",
       "  height: 1.5em !important;\n",
       "  stroke-width: 0;\n",
       "  stroke: currentColor;\n",
       "  fill: currentColor;\n",
       "}\n",
       "</style><pre class='xr-text-repr-fallback'>&lt;xarray.Dataset&gt;\n",
       "Dimensions:  (time: 2)\n",
       "Coordinates:\n",
       "  * time     (time) datetime64[ns] 2019-01-01T05:00:00 2019-01-01T06:00:00\n",
       "Data variables:\n",
       "    *empty*</pre><div class='xr-wrap' style='display:none'><div class='xr-header'><div class='xr-obj-type'>xarray.Dataset</div></div><ul class='xr-sections'><li class='xr-section-item'><input id='section-9c4f909c-9fc1-47d5-a7d9-9abaf46fcc64' class='xr-section-summary-in' type='checkbox' disabled ><label for='section-9c4f909c-9fc1-47d5-a7d9-9abaf46fcc64' class='xr-section-summary'  title='Expand/collapse section'>Dimensions:</label><div class='xr-section-inline-details'><ul class='xr-dim-list'><li><span class='xr-has-index'>time</span>: 2</li></ul></div><div class='xr-section-details'></div></li><li class='xr-section-item'><input id='section-847507ab-4f24-4113-a970-664ab499fe7b' class='xr-section-summary-in' type='checkbox'  checked><label for='section-847507ab-4f24-4113-a970-664ab499fe7b' class='xr-section-summary' >Coordinates: <span>(1)</span></label><div class='xr-section-inline-details'></div><div class='xr-section-details'><ul class='xr-var-list'><li class='xr-var-item'><div class='xr-var-name'><span class='xr-has-index'>time</span></div><div class='xr-var-dims'>(time)</div><div class='xr-var-dtype'>datetime64[ns]</div><div class='xr-var-preview xr-preview'>2019-01-01T05:00:00 2019-01-01T0...</div><input id='attrs-8e0bdaf0-9c0b-4877-847e-10b4843dee5a' class='xr-var-attrs-in' type='checkbox' disabled><label for='attrs-8e0bdaf0-9c0b-4877-847e-10b4843dee5a' title='Show/Hide attributes'><svg class='icon xr-icon-file-text2'><use xlink:href='#icon-file-text2'></use></svg></label><input id='data-3b1e4447-7b1c-4059-82a0-e36912699a0e' class='xr-var-data-in' type='checkbox'><label for='data-3b1e4447-7b1c-4059-82a0-e36912699a0e' title='Show/Hide data repr'><svg class='icon xr-icon-database'><use xlink:href='#icon-database'></use></svg></label><div class='xr-var-attrs'><dl class='xr-attrs'></dl></div><div class='xr-var-data'><pre>array([&#x27;2019-01-01T05:00:00.000000000&#x27;, &#x27;2019-01-01T06:00:00.000000000&#x27;],\n",
       "      dtype=&#x27;datetime64[ns]&#x27;)</pre></div></li></ul></div></li><li class='xr-section-item'><input id='section-311803db-0cd0-4fa0-92cc-18d212167f9a' class='xr-section-summary-in' type='checkbox' disabled ><label for='section-311803db-0cd0-4fa0-92cc-18d212167f9a' class='xr-section-summary'  title='Expand/collapse section'>Data variables: <span>(0)</span></label><div class='xr-section-inline-details'></div><div class='xr-section-details'><ul class='xr-var-list'></ul></div></li><li class='xr-section-item'><input id='section-28e3b982-3a1a-43d1-af38-5174898f16d7' class='xr-section-summary-in' type='checkbox'  ><label for='section-28e3b982-3a1a-43d1-af38-5174898f16d7' class='xr-section-summary' >Indexes: <span>(1)</span></label><div class='xr-section-inline-details'></div><div class='xr-section-details'><ul class='xr-var-list'><li class='xr-var-item'><div class='xr-index-name'><div>time</div></div><div class='xr-index-preview'>PandasIndex</div><div></div><input id='index-f7b20a56-ad75-4843-b747-128601336f38' class='xr-index-data-in' type='checkbox'/><label for='index-f7b20a56-ad75-4843-b747-128601336f38' title='Show/Hide index repr'><svg class='icon xr-icon-database'><use xlink:href='#icon-database'></use></svg></label><div class='xr-index-data'><pre>PandasIndex(DatetimeIndex([&#x27;2019-01-01 05:00:00&#x27;, &#x27;2019-01-01 06:00:00&#x27;], dtype=&#x27;datetime64[ns]&#x27;, name=&#x27;time&#x27;, freq=None))</pre></div></li></ul></div></li><li class='xr-section-item'><input id='section-0269a4f9-9293-426b-aba5-8c99a4257096' class='xr-section-summary-in' type='checkbox' disabled ><label for='section-0269a4f9-9293-426b-aba5-8c99a4257096' class='xr-section-summary'  title='Expand/collapse section'>Attributes: <span>(0)</span></label><div class='xr-section-inline-details'></div><div class='xr-section-details'><dl class='xr-attrs'></dl></div></li></ul></div></div>"
      ],
      "text/plain": [
       "<xarray.Dataset>\n",
       "Dimensions:  (time: 2)\n",
       "Coordinates:\n",
       "  * time     (time) datetime64[ns] 2019-01-01T05:00:00 2019-01-01T06:00:00\n",
       "Data variables:\n",
       "    *empty*"
      ]
     },
     "execution_count": 129,
     "metadata": {},
     "output_type": "execute_result"
    }
   ],
   "source": [
    "tmp"
   ]
  },
  {
   "cell_type": "code",
   "execution_count": null,
   "id": "304c6f1b-0914-45da-a42d-8d8cc993241c",
   "metadata": {},
   "outputs": [],
   "source": []
  },
  {
   "cell_type": "code",
   "execution_count": 132,
   "id": "a535eae5-0754-43bf-8c12-ef36f7097173",
   "metadata": {},
   "outputs": [
    {
     "ename": "AttributeError",
     "evalue": "'cftime._cftime.DatetimeGregorian' object has no attribute 'to_datetimeindex'",
     "output_type": "error",
     "traceback": [
      "\u001b[0;31m---------------------------------------------------------------------------\u001b[0m",
      "\u001b[0;31mAttributeError\u001b[0m                            Traceback (most recent call last)",
      "Cell \u001b[0;32mIn[132], line 1\u001b[0m\n\u001b[0;32m----> 1\u001b[0m tmp\u001b[38;5;241m.\u001b[39mloc[{\u001b[38;5;124m'\u001b[39m\u001b[38;5;124mtime\u001b[39m\u001b[38;5;124m'\u001b[39m:\u001b[43mcfdates2\u001b[49m\u001b[43m[\u001b[49m\u001b[38;5;241;43m0\u001b[39;49m\u001b[43m]\u001b[49m\u001b[38;5;241;43m.\u001b[39;49m\u001b[43mto_datetimeindex\u001b[49m()}]\n",
      "\u001b[0;31mAttributeError\u001b[0m: 'cftime._cftime.DatetimeGregorian' object has no attribute 'to_datetimeindex'"
     ]
    }
   ],
   "source": [
    "tmp.loc[{'time':cfdates2[0].to_datetimeindex()}]"
   ]
  },
  {
   "cell_type": "code",
   "execution_count": 32,
   "id": "68202be4-5ebd-4770-b1ea-2051c26da059",
   "metadata": {},
   "outputs": [
    {
     "ename": "MergeError",
     "evalue": "conflicting values for variable 'tropomi_methane' on objects to be combined. You can skip this check by specifying compat='override'.",
     "output_type": "error",
     "traceback": [
      "\u001b[0;31m---------------------------------------------------------------------------\u001b[0m",
      "\u001b[0;31mMergeError\u001b[0m                                Traceback (most recent call last)",
      "Cell \u001b[0;32mIn[32], line 1\u001b[0m\n\u001b[0;32m----> 1\u001b[0m ds \u001b[38;5;241m=\u001b[39m \u001b[43mxr\u001b[49m\u001b[38;5;241;43m.\u001b[39;49m\u001b[43mmerge\u001b[49m\u001b[43m(\u001b[49m\u001b[43mdstmp\u001b[49m\u001b[43m,\u001b[49m\u001b[43mcompat\u001b[49m\u001b[38;5;241;43m=\u001b[39;49m\u001b[38;5;124;43m'\u001b[39;49m\u001b[38;5;124;43mno_conflicts\u001b[39;49m\u001b[38;5;124;43m'\u001b[39;49m\u001b[43m)\u001b[49m\n",
      "File \u001b[0;32m~/miniconda3/envs/jpy01/lib/python3.10/site-packages/xarray/core/merge.py:1025\u001b[0m, in \u001b[0;36mmerge\u001b[0;34m(objects, compat, join, fill_value, combine_attrs)\u001b[0m\n\u001b[1;32m   1022\u001b[0m     obj \u001b[38;5;241m=\u001b[39m obj\u001b[38;5;241m.\u001b[39mto_dataset(promote_attrs\u001b[38;5;241m=\u001b[39m\u001b[38;5;28;01mTrue\u001b[39;00m) \u001b[38;5;28;01mif\u001b[39;00m \u001b[38;5;28misinstance\u001b[39m(obj, DataArray) \u001b[38;5;28;01melse\u001b[39;00m obj\n\u001b[1;32m   1023\u001b[0m     dict_like_objects\u001b[38;5;241m.\u001b[39mappend(obj)\n\u001b[0;32m-> 1025\u001b[0m merge_result \u001b[38;5;241m=\u001b[39m \u001b[43mmerge_core\u001b[49m\u001b[43m(\u001b[49m\n\u001b[1;32m   1026\u001b[0m \u001b[43m    \u001b[49m\u001b[43mdict_like_objects\u001b[49m\u001b[43m,\u001b[49m\n\u001b[1;32m   1027\u001b[0m \u001b[43m    \u001b[49m\u001b[43mcompat\u001b[49m\u001b[43m,\u001b[49m\n\u001b[1;32m   1028\u001b[0m \u001b[43m    \u001b[49m\u001b[43mjoin\u001b[49m\u001b[43m,\u001b[49m\n\u001b[1;32m   1029\u001b[0m \u001b[43m    \u001b[49m\u001b[43mcombine_attrs\u001b[49m\u001b[38;5;241;43m=\u001b[39;49m\u001b[43mcombine_attrs\u001b[49m\u001b[43m,\u001b[49m\n\u001b[1;32m   1030\u001b[0m \u001b[43m    \u001b[49m\u001b[43mfill_value\u001b[49m\u001b[38;5;241;43m=\u001b[39;49m\u001b[43mfill_value\u001b[49m\u001b[43m,\u001b[49m\n\u001b[1;32m   1031\u001b[0m \u001b[43m\u001b[49m\u001b[43m)\u001b[49m\n\u001b[1;32m   1032\u001b[0m \u001b[38;5;28;01mreturn\u001b[39;00m Dataset\u001b[38;5;241m.\u001b[39m_construct_direct(\u001b[38;5;241m*\u001b[39m\u001b[38;5;241m*\u001b[39mmerge_result\u001b[38;5;241m.\u001b[39m_asdict())\n",
      "File \u001b[0;32m~/miniconda3/envs/jpy01/lib/python3.10/site-packages/xarray/core/merge.py:757\u001b[0m, in \u001b[0;36mmerge_core\u001b[0;34m(objects, compat, join, combine_attrs, priority_arg, explicit_coords, indexes, fill_value)\u001b[0m\n\u001b[1;32m    755\u001b[0m collected \u001b[38;5;241m=\u001b[39m collect_variables_and_indexes(aligned, indexes\u001b[38;5;241m=\u001b[39mindexes)\n\u001b[1;32m    756\u001b[0m prioritized \u001b[38;5;241m=\u001b[39m _get_priority_vars_and_indexes(aligned, priority_arg, compat\u001b[38;5;241m=\u001b[39mcompat)\n\u001b[0;32m--> 757\u001b[0m variables, out_indexes \u001b[38;5;241m=\u001b[39m \u001b[43mmerge_collected\u001b[49m\u001b[43m(\u001b[49m\n\u001b[1;32m    758\u001b[0m \u001b[43m    \u001b[49m\u001b[43mcollected\u001b[49m\u001b[43m,\u001b[49m\u001b[43m \u001b[49m\u001b[43mprioritized\u001b[49m\u001b[43m,\u001b[49m\u001b[43m \u001b[49m\u001b[43mcompat\u001b[49m\u001b[38;5;241;43m=\u001b[39;49m\u001b[43mcompat\u001b[49m\u001b[43m,\u001b[49m\u001b[43m \u001b[49m\u001b[43mcombine_attrs\u001b[49m\u001b[38;5;241;43m=\u001b[39;49m\u001b[43mcombine_attrs\u001b[49m\n\u001b[1;32m    759\u001b[0m \u001b[43m\u001b[49m\u001b[43m)\u001b[49m\n\u001b[1;32m    761\u001b[0m dims \u001b[38;5;241m=\u001b[39m calculate_dimensions(variables)\n\u001b[1;32m    763\u001b[0m coord_names, noncoord_names \u001b[38;5;241m=\u001b[39m determine_coords(coerced)\n",
      "File \u001b[0;32m~/miniconda3/envs/jpy01/lib/python3.10/site-packages/xarray/core/merge.py:302\u001b[0m, in \u001b[0;36mmerge_collected\u001b[0;34m(grouped, prioritized, compat, combine_attrs, equals)\u001b[0m\n\u001b[1;32m    300\u001b[0m variables \u001b[38;5;241m=\u001b[39m [variable \u001b[38;5;28;01mfor\u001b[39;00m variable, _ \u001b[38;5;129;01min\u001b[39;00m elements_list]\n\u001b[1;32m    301\u001b[0m \u001b[38;5;28;01mtry\u001b[39;00m:\n\u001b[0;32m--> 302\u001b[0m     merged_vars[name] \u001b[38;5;241m=\u001b[39m \u001b[43munique_variable\u001b[49m\u001b[43m(\u001b[49m\n\u001b[1;32m    303\u001b[0m \u001b[43m        \u001b[49m\u001b[43mname\u001b[49m\u001b[43m,\u001b[49m\u001b[43m \u001b[49m\u001b[43mvariables\u001b[49m\u001b[43m,\u001b[49m\u001b[43m \u001b[49m\u001b[43mcompat\u001b[49m\u001b[43m,\u001b[49m\u001b[43m \u001b[49m\u001b[43mequals\u001b[49m\u001b[38;5;241;43m.\u001b[39;49m\u001b[43mget\u001b[49m\u001b[43m(\u001b[49m\u001b[43mname\u001b[49m\u001b[43m,\u001b[49m\u001b[43m \u001b[49m\u001b[38;5;28;43;01mNone\u001b[39;49;00m\u001b[43m)\u001b[49m\n\u001b[1;32m    304\u001b[0m \u001b[43m    \u001b[49m\u001b[43m)\u001b[49m\n\u001b[1;32m    305\u001b[0m \u001b[38;5;28;01mexcept\u001b[39;00m MergeError:\n\u001b[1;32m    306\u001b[0m     \u001b[38;5;28;01mif\u001b[39;00m compat \u001b[38;5;241m!=\u001b[39m \u001b[38;5;124m\"\u001b[39m\u001b[38;5;124mminimal\u001b[39m\u001b[38;5;124m\"\u001b[39m:\n\u001b[1;32m    307\u001b[0m         \u001b[38;5;66;03m# we need more than \"minimal\" compatibility (for which\u001b[39;00m\n\u001b[1;32m    308\u001b[0m         \u001b[38;5;66;03m# we drop conflicting coordinates)\u001b[39;00m\n",
      "File \u001b[0;32m~/miniconda3/envs/jpy01/lib/python3.10/site-packages/xarray/core/merge.py:156\u001b[0m, in \u001b[0;36munique_variable\u001b[0;34m(name, variables, compat, equals)\u001b[0m\n\u001b[1;32m    153\u001b[0m                 \u001b[38;5;28;01mbreak\u001b[39;00m\n\u001b[1;32m    155\u001b[0m \u001b[38;5;28;01mif\u001b[39;00m \u001b[38;5;129;01mnot\u001b[39;00m equals:\n\u001b[0;32m--> 156\u001b[0m     \u001b[38;5;28;01mraise\u001b[39;00m MergeError(\n\u001b[1;32m    157\u001b[0m         \u001b[38;5;124mf\u001b[39m\u001b[38;5;124m\"\u001b[39m\u001b[38;5;124mconflicting values for variable \u001b[39m\u001b[38;5;132;01m{\u001b[39;00mname\u001b[38;5;132;01m!r}\u001b[39;00m\u001b[38;5;124m on objects to be combined. \u001b[39m\u001b[38;5;124m\"\u001b[39m\n\u001b[1;32m    158\u001b[0m         \u001b[38;5;124m\"\u001b[39m\u001b[38;5;124mYou can skip this check by specifying compat=\u001b[39m\u001b[38;5;124m'\u001b[39m\u001b[38;5;124moverride\u001b[39m\u001b[38;5;124m'\u001b[39m\u001b[38;5;124m.\u001b[39m\u001b[38;5;124m\"\u001b[39m\n\u001b[1;32m    159\u001b[0m     )\n\u001b[1;32m    161\u001b[0m \u001b[38;5;28;01mif\u001b[39;00m combine_method:\n\u001b[1;32m    162\u001b[0m     \u001b[38;5;28;01mfor\u001b[39;00m var \u001b[38;5;129;01min\u001b[39;00m variables[\u001b[38;5;241m1\u001b[39m:]:\n",
      "\u001b[0;31mMergeError\u001b[0m: conflicting values for variable 'tropomi_methane' on objects to be combined. You can skip this check by specifying compat='override'."
     ]
    }
   ],
   "source": [
    "ds = xr.merge(dstmp,compat='no_conflicts')"
   ]
  },
  {
   "cell_type": "code",
   "execution_count": 22,
   "id": "04b54a95-a9e7-4cb1-a974-14e7f8387734",
   "metadata": {},
   "outputs": [
    {
     "data": {
      "text/plain": [
       "<matplotlib.collections.QuadMesh at 0x2b072d315d80>"
      ]
     },
     "execution_count": 22,
     "metadata": {},
     "output_type": "execute_result"
    },
    {
     "data": {
      "image/png": "[encoded data removed]",
      "text/plain": [
       "<Figure size 640x480 with 2 Axes>"
      ]
     },
     "metadata": {},
     "output_type": "display_data"
    }
   ],
   "source": [
    "ds['geoschem_methane'].mean('time').plot()"
   ]
  },
  {
   "cell_type": "code",
   "execution_count": 12,
   "id": "d679e6cf-4252-47bd-a871-332953f7b7e7",
   "metadata": {},
   "outputs": [],
   "source": [
    "allobs1 = np.vstack([tdict['obs_GC'] for tdict in tfs1])\n",
    "#allobs2 = np.vstack([tdict['obs_GC'] for tdict in tfs2])"
   ]
  },
  {
   "cell_type": "code",
   "execution_count": 13,
   "id": "ff6b8b34-7bd4-4e1b-b69d-d2fde5f8507c",
   "metadata": {},
   "outputs": [
    {
     "name": "stderr",
     "output_type": "stream",
     "text": [
      "/tmp/ipykernel_222623/2315123347.py:1: RuntimeWarning: Mean of empty slice\n",
      "  np.nanmean(allobs1,0)\n"
     ]
    },
    {
     "data": {
      "text/plain": [
       "array([nan, nan, nan, nan, nan, nan], dtype=float32)"
      ]
     },
     "execution_count": 13,
     "metadata": {},
     "output_type": "execute_result"
    }
   ],
   "source": [
    "np.nanmean(allobs1,0)"
   ]
  },
  {
   "cell_type": "code",
   "execution_count": null,
   "id": "7e325dad-9214-4124-a3b1-67392da5658d",
   "metadata": {},
   "outputs": [],
   "source": []
  },
  {
   "cell_type": "code",
   "execution_count": null,
   "id": "663e05df-21a2-4aa5-a0b9-8be901de8900",
   "metadata": {},
   "outputs": [],
   "source": []
  },
  {
   "cell_type": "code",
   "execution_count": 17,
   "id": "7989c79d-b30b-4723-aa93-d388d7dc5fdb",
   "metadata": {},
   "outputs": [
    {
     "data": {
      "text/plain": [
       "'/n/holylfs05/LABS/jacob_lab/imi/ch4/tropomi/S5P_RPRO_L2__CH4____20190101T031859_20190101T050029_06310_03_020400_20221118T031704.nc'"
      ]
     },
     "execution_count": 17,
     "metadata": {},
     "output_type": "execute_result"
    }
   ],
   "source": [
    "tpaths[1]"
   ]
  },
  {
   "cell_type": "code",
   "execution_count": 35,
   "id": "eea621b7-b349-432f-8884-02d2c81eb10b",
   "metadata": {},
   "outputs": [],
   "source": [
    "TROPOMI = tropomi.read_tropomi(tpaths[1])"
   ]
  },
  {
   "cell_type": "code",
   "execution_count": 36,
   "id": "a33b5484-f65c-48e5-8350-c6aa73802b46",
   "metadata": {},
   "outputs": [
    {
     "data": {
      "text/plain": [
       "False"
      ]
     },
     "execution_count": 36,
     "metadata": {},
     "output_type": "execute_result"
    }
   ],
   "source": [
    "np.isnan(tf['methane']).all()"
   ]
  },
  {
   "cell_type": "code",
   "execution_count": 41,
   "id": "6a6c20b2-3044-48e9-8681-a41bfd594882",
   "metadata": {},
   "outputs": [],
   "source": [
    "xlim = [-180,180]\n",
    "ylim = [-90,90]\n",
    "gc_startdate = pd.to_datetime('2019-01-01')\n",
    "gc_enddate = pd.to_datetime('2019-01-02')\n",
    "gc_cache = '/n/holyscratch01/jacob_lab/jeast/gc-OH-runs/gc_2x25_merra2_CH4_v05OH-test/OutputDir/'"
   ]
  },
  {
   "cell_type": "code",
   "execution_count": 42,
   "id": "42598a31-95d0-4073-b122-3c36ec208991",
   "metadata": {},
   "outputs": [],
   "source": [
    "sat_ind = tropomi.filter_tropomi(TROPOMI, xlim, ylim, gc_startdate, gc_enddate)"
   ]
  },
  {
   "cell_type": "code",
   "execution_count": 43,
   "id": "6e60eef5-c78b-47ba-b3df-a060da28a06e",
   "metadata": {},
   "outputs": [],
   "source": [
    "gc_lat_lon = tropomi.get_gc_lat_lon(gc_cache, gc_startdate)"
   ]
  },
  {
   "cell_type": "code",
   "execution_count": 45,
   "id": "303f1de0-9a63-4180-95b3-e69ddb093c96",
   "metadata": {},
   "outputs": [
    {
     "name": "stdout",
     "output_type": "stream",
     "text": [
      "Found 29202 TROPOMI observations.\n"
     ]
    }
   ],
   "source": [
    "obs_mapped_to_gc = tropomi.average_tropomi_observations(TROPOMI, gc_lat_lon, sat_ind)"
   ]
  },
  {
   "cell_type": "code",
   "execution_count": 56,
   "id": "95fd8a9f-6a2b-4ad3-9761-b1be035fb5a9",
   "metadata": {},
   "outputs": [],
   "source": [
    "n_gridcells = len(obs_mapped_to_gc)\n",
    "\n",
    "# create list to store the dates/hour of each gridcell\n",
    "all_strdate = [gridcell[\"time\"] for gridcell in obs_mapped_to_gc]\n",
    "all_strdate = list(set(all_strdate))"
   ]
  },
  {
   "cell_type": "code",
   "execution_count": 59,
   "id": "7fa94042-840c-45c2-8d3a-f6d32a8d46ef",
   "metadata": {},
   "outputs": [],
   "source": [
    "# Read GEOS_Chem data for the dates of interest\n",
    "all_date_gc = tropomi.read_all_geoschem(all_strdate, gc_cache)"
   ]
  },
  {
   "cell_type": "code",
   "execution_count": 117,
   "id": "22ad085c-17cd-4a5e-9285-37af2a183d2d",
   "metadata": {},
   "outputs": [],
   "source": [
    "# Initialize array with n_gridcells rows and 6 columns. Columns are TROPOMI CH4, GEOSChem CH4, longitude, latitude, observation counts\n",
    "obs_GC = np.zeros([n_gridcells, 9], dtype=np.float32)\n",
    "obs_GC.fill(np.nan)"
   ]
  },
  {
   "cell_type": "code",
   "execution_count": 118,
   "id": "93cfd852-0eb2-4594-83fa-07a5ea1a2f0b",
   "metadata": {},
   "outputs": [],
   "source": [
    "# For each gridcell dict with tropomi obs:\n",
    "for i, gridcell_dict in enumerate(obs_mapped_to_gc):\n",
    "    \n",
    "    #if i>0:\n",
    "    #    break\n",
    "\n",
    "    # Get GEOS-Chem data for the date of the observation:\n",
    "    p_sat = gridcell_dict[\"p_sat\"]\n",
    "    dry_air_subcolumns = gridcell_dict[\"dry_air_subcolumns\"]  # mol m-2\n",
    "    apriori = gridcell_dict[\"apriori\"]  # mol m-2\n",
    "    avkern = gridcell_dict[\"avkern\"]\n",
    "    strdate = gridcell_dict[\"time\"]\n",
    "    GEOSCHEM = all_date_gc[strdate]\n",
    "\n",
    "    # Get GEOS-Chem pressure edges for the cell\n",
    "    p_gc = GEOSCHEM[\"PEDGE\"][gridcell_dict[\"iGC\"], gridcell_dict[\"jGC\"], :]\n",
    "    # Get GEOS-Chem methane for the cell\n",
    "    gc_CH4 = GEOSCHEM[\"CH4\"][gridcell_dict[\"iGC\"], gridcell_dict[\"jGC\"], :]\n",
    "    # Get merged GEOS-Chem/TROPOMI pressure grid for the cell\n",
    "    merged = tropomi.merge_pressure_grids(p_sat, p_gc)\n",
    "    # Remap GEOS-Chem methane to TROPOMI pressure levels\n",
    "    sat_CH4 = tropomi.remap(\n",
    "        gc_CH4,\n",
    "        merged[\"data_type\"],\n",
    "        merged[\"p_merge\"],\n",
    "        merged[\"edge_index\"],\n",
    "        merged[\"first_gc_edge\"],\n",
    "    )  # ppb\n",
    "    # Convert ppb to mol m-2\n",
    "    sat_CH4_molm2 = sat_CH4 * 1e-9 * dry_air_subcolumns  # mol m-2\n",
    "    # Derive the column-averaged XCH4 that TROPOMI would see over this ground cell\n",
    "    # using eq. 46 from TROPOMI Methane ATBD, Hasekamp et al. 2019\n",
    "    virtual_tropomi = (\n",
    "        sum(apriori + avkern * (sat_CH4_molm2 - apriori))\n",
    "        / sum(dry_air_subcolumns)\n",
    "        * 1e9\n",
    "    )  # ppb\n",
    "    \n",
    "    # Save actual and virtual TROPOMI data\n",
    "    obs_GC[i, 0] = gridcell_dict[\n",
    "        \"methane\"\n",
    "    ]  # Actual TROPOMI methane column observation\n",
    "    obs_GC[i, 1] = virtual_tropomi  # Virtual TROPOMI methane column observation\n",
    "    obs_GC[i, 2] = gridcell_dict[\"lon_sat\"]  # TROPOMI longitude\n",
    "    obs_GC[i, 3] = gridcell_dict[\"lat_sat\"]  # TROPOMI latitude\n",
    "    obs_GC[i, 4] = gridcell_dict[\"observation_count\"]  # observation counts\n",
    "    obs_GC[i, 5] = gridcell_dict[\"iGC\"] # GC i index\n",
    "    obs_GC[i, 6] = gridcell_dict[\"jGC\"] # GC j index\n",
    "    obs_GC[i, 7] = pd.to_datetime(gridcell_dict['time'],format='%Y%m%d_%H').hour # GC t index"
   ]
  },
  {
   "cell_type": "code",
   "execution_count": 138,
   "id": "e961002f-2bcc-497d-80bf-748443b97f59",
   "metadata": {},
   "outputs": [],
   "source": [
    "tcoords = pd.date_range(\n",
    "    start=gc_startdate,\n",
    "    end=gc_enddate,\n",
    "    freq='H'\n",
    ")\n",
    "ishape = gc_lat_lon['lon'].shape[0]\n",
    "jshape = gc_lat_lon['lat'].shape[0]\n",
    "tshape = tcoords.shape[0]\n",
    "\n",
    "dimlist = ['time','lat','lon']\n",
    "emptysurface = np.full((tshape,jshape,ishape),np.nan)"
   ]
  },
  {
   "cell_type": "code",
   "execution_count": 139,
   "id": "707f28dc-9022-4f37-86fe-8d96da6b6b63",
   "metadata": {},
   "outputs": [],
   "source": [
    "outds = xr.Dataset(\n",
    "    data_vars = dict(\n",
    "        tropomi_methane=(dimlist, emptysurface),\n",
    "        geoschem_methane=(dimlist, emptysurface),\n",
    "        observation_count=(dimlist, emptysurface)\n",
    "    ),\n",
    "    coords = {\n",
    "        **gc_lat_lon,\n",
    "        'time':tcoords\n",
    "    }\n",
    ")"
   ]
  },
  {
   "cell_type": "code",
   "execution_count": 145,
   "id": "277d1c4d-53b7-486b-aec5-25489425c3a8",
   "metadata": {},
   "outputs": [],
   "source": [
    "outds['tropomi_methane'].values[\n",
    "    obs_GC[:,7].astype(int),obs_GC[:,6].astype(int),obs_GC[:,5].astype(int)\n",
    "] = obs_GC[:,1]\n",
    "\n",
    "outds['geoschem_methane'].values[\n",
    "    obs_GC[:,7].astype(int),obs_GC[:,6].astype(int),obs_GC[:,5].astype(int)\n",
    "] = obs_GC[:,0]\n",
    "\n",
    "outds['observation_count'].values[\n",
    "    obs_GC[:,7].astype(int),obs_GC[:,6].astype(int),obs_GC[:,5].astype(int)\n",
    "] = obs_GC[:,4]"
   ]
  },
  {
   "cell_type": "code",
   "execution_count": 146,
   "id": "5747f9f0-a59e-4c64-b009-c273716ea63c",
   "metadata": {},
   "outputs": [
    {
     "data": {
      "text/plain": [
       "<matplotlib.collections.QuadMesh at 0x2b830a8e8bb0>"
      ]
     },
     "execution_count": 146,
     "metadata": {},
     "output_type": "execute_result"
    },
    {
     "data": {
      "image/png": "[encoded data removed]",
      "text/plain": [
       "<Figure size 640x480 with 2 Axes>"
      ]
     },
     "metadata": {},
     "output_type": "display_data"
    }
   ],
   "source": [
    "outds['observation_count'].mean('time').plot()"
   ]
  },
  {
   "cell_type": "code",
   "execution_count": null,
   "id": "07f7a126-5290-4ebf-a9c6-353203a34e46",
   "metadata": {},
   "outputs": [],
   "source": []
  }
 ],
 "metadata": {
  "kernelspec": {
   "display_name": "jpy01",
   "language": "python",
   "name": "jpy01"
  },
  "language_info": {
   "codemirror_mode": {
    "name": "ipython",
    "version": 3
   },
   "file_extension": ".py",
   "mimetype": "text/x-python",
   "name": "python",
   "nbconvert_exporter": "python",
   "pygments_lexer": "ipython3",
   "version": "3.10.9"
  }
 },
 "nbformat": 4,
 "nbformat_minor": 5
}
